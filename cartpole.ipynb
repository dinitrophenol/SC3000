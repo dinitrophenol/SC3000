{
 "cells": [
  {
   "cell_type": "markdown",
   "metadata": {},
   "source": [
    "## Contributions\n",
    "Kent Karsten Pangestu - Task 1,2,3,4"
   ]
  },
  {
   "cell_type": "code",
   "execution_count": 1,
   "metadata": {},
   "outputs": [],
   "source": [
    "import gym\n",
    "import base64\n",
    "import glob\n",
    "import io\n",
    "from IPython import display as ipythondisplay\n",
    "from IPython.display import HTML\n",
    "from gym.wrappers import RecordVideo\n",
    "import base64\n",
    "from gym import logger as gymlogger\n",
    "from collections import defaultdict\n",
    "import numpy as np\n",
    "from matplotlib import pyplot as plt\n",
    "import warnings\n",
    "warnings.filterwarnings(\"ignore\")\n",
    "from abc import ABC, abstractmethod"
   ]
  },
  {
   "cell_type": "markdown",
   "metadata": {},
   "source": [
    "# CartPole Environment"
   ]
  },
  {
   "cell_type": "code",
   "execution_count": 2,
   "metadata": {},
   "outputs": [
    {
     "name": "stdout",
     "output_type": "stream",
     "text": [
      "Action Space: Discrete(2)\n",
      "Observation Space: Box([-4.8000002e+00 -3.4028235e+38 -4.1887903e-01 -3.4028235e+38], [4.8000002e+00 3.4028235e+38 4.1887903e-01 3.4028235e+38], (4,), float32)\n"
     ]
    }
   ],
   "source": [
    "env = gym.make(\"CartPole-v1\")\n",
    "\n",
    "print(f\"Action Space: {env.action_space}\")\n",
    "print(f\"Observation Space: {env.observation_space}\")"
   ]
  },
  {
   "cell_type": "markdown",
   "metadata": {},
   "source": [
    "### Action Space\n",
    "The action space takes discrete values of either **0** or **1**, pushing the cart to the left or right respectively.\n",
    "\n",
    "### Observation Space\n",
    "The observation space takes continuous values, summarised in the table below.\n",
    "\n",
    "<table style=\"width:70%; font-size: 14px; border: 1px solid black; border-collapse: collapse;\">\n",
    "  <tr>\n",
    "    <th>Num</th>\n",
    "    <th>Observation</th>\n",
    "    <th>Min</th>\n",
    "    <th>Max</th>\n",
    "  </tr>\n",
    "  <tr>\n",
    "    <td>0</td>\n",
    "    <td>Cart Position</td>\n",
    "    <td>-4.8</td>\n",
    "    <td>4.8</td>\n",
    "  </tr>\n",
    "  <tr>\n",
    "    <td>1</td>\n",
    "    <td>Cart Velocity</td>\n",
    "    <td>-Inf</td>\n",
    "    <td>Inf</td>\n",
    "  </tr>\n",
    "  <tr>\n",
    "    <td>2</td>\n",
    "    <td>Pole Angle</td>\n",
    "    <td>~ -0.418 rad (-24°)</td>\n",
    "    <td>~ 0.418 rad (24°)</td>\n",
    "  </tr>\n",
    "  <tr>\n",
    "    <td>3</td>\n",
    "    <td>Pole Angular Velocity</td>\n",
    "    <td>-Inf</td>\n",
    "    <td>Inf</td>\n",
    "  </tr>\n",
    "</table>\n",
    "\n",
    "### Reward\n",
    "Since the goal is to keep the pole upright for as long as possible, a reward of **+1** for every step taken, including the termination step, is allotted.\n",
    "\n",
    "\n",
    "### Starting State\n",
    "All observations are assigned a uniformly random value in (-0.05, 0.05).\n",
    "\n",
    "### Terminating Conditions\n",
    "An episode ends if any one of the following occurs:\n",
    "\n",
    "* Pole Angle is greater than ±12°\n",
    "\n",
    "* Cart Position is greater than ±2.4 (center of the cart reaches the edge of the display)\n",
    "\n",
    "* Episode length is greater than 500\n"
   ]
  },
  {
   "cell_type": "markdown",
   "metadata": {},
   "source": [
    "## Task 1:  Development of an RL Agent"
   ]
  },
  {
   "cell_type": "markdown",
   "metadata": {},
   "source": [
    "Since all 4 observed values in the observation space are continuous, we need to discretise them into bins. \n",
    "\n",
    "* `cart_position` is split into **4** bins with intervals of **2.5**\n",
    "* `cart_velocity` is split into **4** bins with intervals of **2.5** \n",
    "* `pole_angle` is split into **10** bins with intervals of **0.1** \n",
    "* `pole_angular_velocity` is split into **40** bins with intervals of **0.25**\n",
    "\n",
    "Through trial-and error, we found that `pole_angular_velocity` is the most important factor in the learning growth, followed by `pole_angle`. Hence, they are set with relatively more bins to account for more precise changes."
   ]
  },
  {
   "cell_type": "markdown",
   "metadata": {},
   "source": [
    "We created a base class comprising of basic attributes and methods to describe what an agent should have and do."
   ]
  },
  {
   "cell_type": "code",
   "execution_count": null,
   "metadata": {},
   "outputs": [],
   "source": [
    "class Agent(ABC):\n",
    "    def __init__(self, env, discount_factor = 0.99, epsilon = 1.0, epsilon_decay = 0.9995, epsilon_min = 0.07) -> None:\n",
    "        self.env = env\n",
    "        self.discount_factor = discount_factor # γ\n",
    "        self.epsilon = epsilon # ϵ\n",
    "        self.epsilon_decay = epsilon_decay \n",
    "        self.epsilon_min = epsilon_min \n",
    "        self.observation = [4, 4, 10, 40] # Number of bins set for each variable in an observation\n",
    "        self.window_size = np.array([2.5, 2.5, 0.1, 0.25]) # Size of each bin\n",
    "        self.q_table = np.random.uniform(low=0, high=1, size=(self.observation + [env.action_space.n])) \n",
    "    \n",
    "    def discretise_state(self, state) -> tuple:\n",
    "        \"\"\"\n",
    "        Converts a continuous state into its discrete values.\n",
    "\n",
    "        Returns a tuple of discrete values describing a state.\n",
    "        \"\"\"\n",
    "        discrete_state = state/self.window_size + np.array([2,2,5,20]) # Normalise the state values to prevent negative indexing \n",
    "        return tuple(discrete_state.astype(int)) # Truncate and convert to tuple to use as a key in the Q-table\n",
    "    \n",
    "    def decay_epsilon(self) -> None:\n",
    "        \"\"\"Decays the exploration factor (epsilon) after each episode.\"\"\"\n",
    "        self.epsilon = max(self.epsilon * self.epsilon_decay, self.epsilon_min)\n",
    "\n",
    "    def policy(self, state) -> int:\n",
    "        \"\"\"\n",
    "        Rule to determine which action to take at a particular state, with noise added to encourage exploration.\n",
    "        \n",
    "        Returns an action as either 0 or 1.\n",
    "        \"\"\"\n",
    "        if np.random.rand() < self.epsilon: # Probability of ϵ to explore\n",
    "            return self.env.action_space.sample()\n",
    "        else: # Probability of 1 - ϵ to exploit\n",
    "            return np.argmax(self.q_table[state]) \n",
    "\n",
    "    @abstractmethod\n",
    "    def generate_episode(self) -> int:\n",
    "        \"\"\"\n",
    "        Generates an episode and updates the Q-values by calling update_q_table.\n",
    "\n",
    "        (Algorithm dependent)\n",
    "\n",
    "        Returns the cumulative reward for one episode.\n",
    "        \"\"\"\n",
    "        pass\n",
    "\n",
    "    @abstractmethod\n",
    "    def update_q_table(self, episode) -> None:\n",
    "        \"\"\"Updates the Q-values in the Q-table attribute using an update rule.\n",
    "\n",
    "        (Algorithm dependent)\n",
    "\n",
    "        \"\"\"\n",
    "        pass\n",
    "\n",
    "    def train_episodes(self, num_episodes) -> None:\n",
    "        \"\"\"Runs the agent through multiple episodes to learn from the environment.\"\"\"\n",
    "        reward = 0 \n",
    "        for episode in range(1,num_episodes+2):\n",
    "            reward += self.generate_episode()\n",
    "            self.decay_epsilon() # Decay epsilon after each episode\n",
    "            if episode % 1000 == 0:\n",
    "                print(f\"Mean reward for the first {episode} episodes: {reward/1000}\")\n",
    "                reward = 0\n",
    "   \n",
    "    def run(self, raw_state) -> int:\n",
    "        \"\"\"\n",
    "        Determines the best possible action based on current Q-values.\n",
    "        \n",
    "        Returns an action of either 0 or 1.\n",
    "        \"\"\"\n",
    "        state = self.discretise_state(raw_state)\n",
    "        action = np.argmax(self.q_table[state])\n",
    "        return action\n",
    "    \n",
    "    def test_episodes(self, num_episodes) -> list:\n",
    "        \"\"\"\n",
    "        Tests the agent's performance based on current Q-values through multiple episodes.\n",
    "        \n",
    "        Returns a list of the cumulative rewards over num_episodes.\"\"\"\n",
    "        reward_list = []\n",
    "\n",
    "        for episode in range(num_episodes):\n",
    "            state, _ = self.env.reset()\n",
    "            done = False\n",
    "            cumulative_reward = 0\n",
    "\n",
    "            while not done:\n",
    "                action = self.run(state)\n",
    "                next_state, reward, done, _, _ = self.env.step(action)\n",
    "                cumulative_reward += reward\n",
    "                if cumulative_reward > 499:\n",
    "                    break\n",
    "                state = next_state\n",
    "                \n",
    "            reward_list.append(cumulative_reward)\n",
    "            \n",
    "        return reward_list\n",
    "    "
   ]
  },
  {
   "cell_type": "markdown",
   "metadata": {},
   "source": [
    "The Q-table of an agent is a 5-dimensional tensor, where\n",
    "\n",
    "1st dimension: cart position; `len(q_table)` == 4, storing the 4 possible discrete states of cart_position\n",
    "\n",
    "2nd dimension: cart velocity; `len(q_table[0])` == 4, storing the 4 possible discrete states of cart_velocity\n",
    "\n",
    "3rd dimension: pole angle; `len(q_table[0][0])` == 10, storing the 10 possible discrete states of pole_angle\n",
    "\n",
    "4rd dimension: pole angular velocity; `len(q_table[0][0][0])` == 40, storing the 40 possible discrete states of pole_angular_velocity\n",
    "\n",
    "5th dimension: action; `len(q_table[0][0][0][0])` == 2, storing either 0 or 1\n",
    "\n",
    "Each entry in the 5D tensor is initialised with arbitrary values from **0** to **1** using `np.random.uniform()`."
   ]
  },
  {
   "cell_type": "markdown",
   "metadata": {},
   "source": [
    "We determined that exploration is much more important than exploitation in this context due to the large state space. Hence, the hyperparameters are adjusted to accommodate exploration over exploitation in the beginning stages. More specifically,\n",
    "\n",
    "* `discount_factor γ` determines the importance of future rewards when evaluating the expected returns from a state-action pair. It is set at **0.99** to prioritise long-term rewards, encouraging the agent to learn strategies that optimise the overall return rather than focusing only on immediate rewards.\n",
    "\n",
    "* `epsilon ϵ` adds noise to allow the agent to explore other actions besides the current best-known action at a given state. It is set at **1** to encourage complete exploration early on when it has little knowledge of the environment, which is especially important in large state spaces.\n",
    "\n",
    "* `epsilon_decay` decreases ϵ over time. It is set at **0.9995** to gradually transition to exploitation over exploration as the agent gains more knowledge and becomes more confident in its decisions.\n",
    "\n",
    "* `epsilon_min` sets a minimum threshold allowed for ϵ. It is set at **0.07** to ensure that the agent keeps exploring even at the later stages, preventing overly greedy actions that only satisfies a local optima.\n"
   ]
  },
  {
   "cell_type": "markdown",
   "metadata": {},
   "source": [
    "### 1a. Monte-Carlo Control\n",
    "\n",
    "We implemented the Monte-Carlo Control algorithm as outlined below.\n",
    "\n",
    "![alt text](mc_algorithm.png)"
   ]
  },
  {
   "cell_type": "code",
   "execution_count": 4,
   "metadata": {},
   "outputs": [],
   "source": [
    "class Monte_Carlo(Agent):\n",
    "    def __init__(self, env) -> None:\n",
    "        super().__init__(env)\n",
    "        self.returns = defaultdict(int)\n",
    "        self.visits = defaultdict(int)\n",
    "\n",
    "    def generate_episode(self) -> int:\n",
    "        episode = []\n",
    "        state, _ = self.env.reset() # Environment is reset at the beginning of each episode\n",
    "        state = self.discretise_state(state)\n",
    "        done = False\n",
    "        cumulative_reward = 0\n",
    "        \n",
    "        while not done:\n",
    "            action = self.policy(state) \n",
    "            next_state, reward, done, _, _ = self.env.step(action)\n",
    "            episode.append((state, action, reward)) # The entire trajectory of an episode is stored in an array\n",
    "            state = self.discretise_state(next_state)\n",
    "            cumulative_reward += reward\n",
    "\n",
    "            if cumulative_reward > 499:\n",
    "                break\n",
    "\n",
    "        self.update_q_table(episode) # Q-table is updated per episode\n",
    "\n",
    "        return cumulative_reward\n",
    "    \n",
    "    def update_q_table(self, episode) -> None:\n",
    "        G = 0\n",
    "        state_action_visited = defaultdict(int)\n",
    "\n",
    "        # Iterate trough a trajectory backwards \n",
    "        for i in reversed(range(len(episode))):\n",
    "            state, action, reward = episode[i]\n",
    "            G = reward + self.discount_factor * G # Calculate G using G(t) = r(t) + γ * G(t+1)\n",
    "            state_action_visited[(state, action)] = G # Computes returns using first-visit MC method\n",
    "\n",
    "            for (state, action), val in state_action_visited.items():\n",
    "                self.returns[(state, action)] += val # val is the value of G for a given state-action pair\n",
    "                self.visits[(state, action)] += 1\n",
    "                self.q_table[state + (action,)] = self.returns[(state, action)] / self.visits[(state, action)] # Update Q table for each state-action pair"
   ]
  },
  {
   "cell_type": "markdown",
   "metadata": {},
   "source": [
    "In Monte-Carlo, the entire trajectory of an episode is stored, and the Q-table is updated according to the trajectory after an episode is finished. A first-visit method is used to ensure a state-action pair is only updated once per episode. \n",
    "\n",
    "G is calculated using\n",
    "$$G_t = R_t + \\gamma R_{t+1}  + γ^2R_{t+2} + ... + \\gamma ^nR_{t+n} = R_t + \\gamma G_{t+1}$$ \n",
    "\n",
    "and Q(s,a) is updated using \n",
    "$$Q(state,action) = \\frac{Total Returns}{Total Count}$$"
   ]
  },
  {
   "cell_type": "markdown",
   "metadata": {},
   "source": [
    "The agent is then trained on 5000 episodes, and the average reward every 1000 episodes is indicated to highlight the agent's progress."
   ]
  },
  {
   "cell_type": "code",
   "execution_count": 5,
   "metadata": {},
   "outputs": [
    {
     "name": "stdout",
     "output_type": "stream",
     "text": [
      "Mean reward for the first 1000 episodes: 42.236\n",
      "Mean reward for the first 2000 episodes: 205.901\n",
      "Mean reward for the first 3000 episodes: 417.47\n",
      "Mean reward for the first 4000 episodes: 485.357\n",
      "Mean reward for the first 5000 episodes: 497.434\n"
     ]
    }
   ],
   "source": [
    "Monte_Carlo_Agent = Monte_Carlo(env)\n",
    "Monte_Carlo_Agent.train_episodes(5000)"
   ]
  },
  {
   "cell_type": "markdown",
   "metadata": {},
   "source": [
    "Sampling a random state from the cart pole environment to the agent:"
   ]
  },
  {
   "cell_type": "code",
   "execution_count": 6,
   "metadata": {},
   "outputs": [
    {
     "name": "stdout",
     "output_type": "stream",
     "text": [
      "Observation: [0.01393245 0.01876145 0.00342269 0.03466432]\n",
      "Chosen action: 1\n"
     ]
    }
   ],
   "source": [
    "state, _ = env.reset()\n",
    "action = Monte_Carlo_Agent.run(state)\n",
    "print(\"Observation:\", state)\n",
    "print(\"Chosen action:\", action)"
   ]
  },
  {
   "cell_type": "markdown",
   "metadata": {},
   "source": [
    "### 1b. Q-Learning\n",
    "\n",
    "We also implemented the Q-Learning algorithm as outlined below.\n",
    "\n",
    "<img src=\"q_learning_algorithm.png\" width=\"800\" height=\"340\">"
   ]
  },
  {
   "cell_type": "markdown",
   "metadata": {},
   "source": [
    "We added an extra hyperparameter `learning_rate α`, which is needed in a Q-Learning algorithm.\n",
    "\n",
    "* `learning_rate α` controls how much the Q-values are updated in each step of an episode. It is set low at **0.1** to allow for more stability during the training process by ensuring that the agent learns more gradually.\n"
   ]
  },
  {
   "cell_type": "code",
   "execution_count": 7,
   "metadata": {},
   "outputs": [],
   "source": [
    "class QLearning(Agent):\n",
    "    def __init__(self, env, learning_rate=0.1):\n",
    "        super().__init__(env)\n",
    "        self.learning_rate = learning_rate # α\n",
    "        \n",
    "    def generate_episode(self) -> int:\n",
    "        state, _ = self.env.reset() # Environment is reset at the beginning of each episode\n",
    "        state = self.discretise_state(state)\n",
    "        done = False\n",
    "        cumulative_reward = 0\n",
    "\n",
    "        while not done:\n",
    "            action = self.policy(state)\n",
    "            next_state, reward, done, _, _ = self.env.step(action)\n",
    "            next_state = self.discretise_state(next_state)\n",
    "            cumulative_reward += reward\n",
    "\n",
    "            if cumulative_reward > 499:\n",
    "                break\n",
    "            \n",
    "            self.update_q_table(state, next_state, action, reward) # Q-table is updated per action taken\n",
    "            state = next_state\n",
    "\n",
    "        return cumulative_reward\n",
    "\n",
    "    def update_q_table(self, state, next_state, action, reward) -> None:\n",
    "        current_q = self.q_table[state + (action,)]\n",
    "        next_max_q = np.max(self.q_table[next_state])\n",
    "        \n",
    "        # Update Q-value using the Bellman equation: Q(s, a) = (1 - α) * Q(s, a) + α * (r + γ * max_a(Q(s', a')))\n",
    "        new_q = (1 - self.learning_rate) * current_q + self.learning_rate * (reward + self.discount_factor * next_max_q)\n",
    "        self.q_table[state + (action,)] = new_q"
   ]
  },
  {
   "cell_type": "markdown",
   "metadata": {},
   "source": [
    "In Q-Learning, the Q-table is updated for each action taken between states according to \n",
    "\n",
    "$$\n",
    "Q_{\\text{new}}(s_t, a_t) = (1-\\alpha) Q_{\\text{old}}(s_t,a_t) + \\alpha (Reward_{t+1} + \\gamma \\max_a Q_{\\text{old}}(s_{t+1},a))\n",
    "$$\n",
    "\n",
    "Thus, there is no need to store the trajectory of an episode."
   ]
  },
  {
   "cell_type": "markdown",
   "metadata": {},
   "source": [
    "The agent is then trained on 5000 episodes, and the average reward every 1000 episodes is indicated to highlight the agent's progress."
   ]
  },
  {
   "cell_type": "code",
   "execution_count": 19,
   "metadata": {},
   "outputs": [
    {
     "name": "stdout",
     "output_type": "stream",
     "text": [
      "Mean reward for the first 1000 episodes: 28.91\n",
      "Mean reward for the first 2000 episodes: 151.445\n",
      "Mean reward for the first 3000 episodes: 298.281\n",
      "Mean reward for the first 4000 episodes: 392.635\n",
      "Mean reward for the first 5000 episodes: 429.261\n"
     ]
    }
   ],
   "source": [
    "Q_agent = QLearning(env)\n",
    "Q_agent.train_episodes(5000)"
   ]
  },
  {
   "cell_type": "markdown",
   "metadata": {},
   "source": [
    "Sampling a random state from the cart pole environment to the agent:"
   ]
  },
  {
   "cell_type": "code",
   "execution_count": 20,
   "metadata": {},
   "outputs": [
    {
     "name": "stdout",
     "output_type": "stream",
     "text": [
      "Observation: [ 0.00299797 -0.02532081 -0.00342344  0.03383389]\n",
      "Chosen action: 0\n"
     ]
    }
   ],
   "source": [
    "state, _ = env.reset()\n",
    "action = Q_agent.run(state)\n",
    "print(\"Observation:\", state)\n",
    "print(\"Chosen action:\", action)"
   ]
  },
  {
   "cell_type": "markdown",
   "metadata": {},
   "source": [
    "### Note\n",
    "\n",
    "We noted that the performance of an RL agent may vary in different training environments.\n",
    "\n",
    "This is because an agent may develop a bias towards a suboptimal strategy where it continuously moves in one direction to keep the pole balanced. While this strategy successfully prevents the pole from falling, it can lead to early termination of an episode when the cart exceeds the allowed position limits of ± 2.4. Since the reward function incentivizes pole balance without explicitly discouraging excessive lateral movement, the agent may not learn to keep the cart centered and consequently may drift away to the boundary. This results in mean rewards that converges more slowly to 500 since episodes end prematurely despite the pole remaining upright.\n",
    "\n",
    "In such a scenario, more number of episodes may be needed to converge to an optimal policy. However, for our case, we think that 5000 episodes are good enough to train an agent for this task."
   ]
  },
  {
   "cell_type": "markdown",
   "metadata": {},
   "source": [
    "## Task 2: Demonstrate the effectiveness of the RL agent"
   ]
  },
  {
   "cell_type": "markdown",
   "metadata": {},
   "source": [
    "### 2a. Performance of Monte-Carlo Control agent"
   ]
  },
  {
   "cell_type": "code",
   "execution_count": 21,
   "metadata": {},
   "outputs": [
    {
     "data": {
      "image/png": "[encoded data removed]",
      "text/plain": [
       "<Figure size 640x480 with 1 Axes>"
      ]
     },
     "metadata": {},
     "output_type": "display_data"
    },
    {
     "name": "stdout",
     "output_type": "stream",
     "text": [
      "Average cumulative reward: 500.0\n",
      "Is my agent good enough? True\n"
     ]
    }
   ],
   "source": [
    "episode_results = Monte_Carlo_Agent.test_episodes(100)\n",
    "\n",
    "plt.plot(episode_results)\n",
    "plt.title(\"Cumulative reward for each episode\")\n",
    "plt.ylabel('Rewards')\n",
    "plt.xlabel('Episodes')\n",
    "plt.show()\n",
    "\n",
    "print(\"Average cumulative reward:\", np.mean(episode_results))\n",
    "print(\"Is my agent good enough?\", np.mean(episode_results) > 195)"
   ]
  },
  {
   "cell_type": "markdown",
   "metadata": {},
   "source": [
    "### 2b. Performance of Q-Learning agent"
   ]
  },
  {
   "cell_type": "code",
   "execution_count": 22,
   "metadata": {},
   "outputs": [
    {
     "data": {
      "image/png": "[encoded data removed]",
      "text/plain": [
       "<Figure size 640x480 with 1 Axes>"
      ]
     },
     "metadata": {},
     "output_type": "display_data"
    },
    {
     "name": "stdout",
     "output_type": "stream",
     "text": [
      "Average cumulative reward: 500.0\n",
      "Is my agent good enough? True\n"
     ]
    }
   ],
   "source": [
    "episode_results = Q_agent.test_episodes(100)\n",
    "\n",
    "plt.plot(episode_results)\n",
    "plt.title(\"Cumulative reward for each episode\")\n",
    "plt.ylabel('Rewards')\n",
    "plt.xlabel('Episodes')\n",
    "plt.show()\n",
    "\n",
    "print(\"Average cumulative reward:\", np.mean(episode_results))\n",
    "print(\"Is my agent good enough?\", np.mean(episode_results) > 195)"
   ]
  },
  {
   "cell_type": "markdown",
   "metadata": {},
   "source": [
    "Although both agents are able to practically solve the game within 5000 episodes, the Q-Learning agent may be the more memory-efficient agent since unlike in Monte-Carlo, its bootstrapping strategy does not require it to keep track of the entire history of an episode."
   ]
  },
  {
   "cell_type": "markdown",
   "metadata": {},
   "source": [
    "## Task 3: Render one episode played by the agent"
   ]
  },
  {
   "cell_type": "markdown",
   "metadata": {},
   "source": [
    "We will choose the Monte Carlo agent for this task."
   ]
  },
  {
   "cell_type": "code",
   "execution_count": 24,
   "metadata": {},
   "outputs": [
    {
     "name": "stdout",
     "output_type": "stream",
     "text": [
      "MoviePy - Building video d:\\Files\\VS Code\\SC3000\\SC3000\\video\\rl-video-episode-0.mp4.\n",
      "MoviePy - Writing video d:\\Files\\VS Code\\SC3000\\SC3000\\video\\rl-video-episode-0.mp4\n",
      "\n"
     ]
    },
    {
     "name": "stderr",
     "output_type": "stream",
     "text": [
      "                                                                          \r"
     ]
    },
    {
     "name": "stdout",
     "output_type": "stream",
     "text": [
      "MoviePy - Done !\n",
      "MoviePy - video ready d:\\Files\\VS Code\\SC3000\\SC3000\\video\\rl-video-episode-0.mp4\n"
     ]
    },
    {
     "data": {
      "text/html": [
       "<video width=\"600\" controls><source src=\"data:video/mp4;base64,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\" type=\"video/mp4\"></video>"
      ],
      "text/plain": [
       "<IPython.core.display.HTML object>"
      ]
     },
     "metadata": {},
     "output_type": "display_data"
    }
   ],
   "source": [
    "def show_video():\n",
    "    mp4list = glob.glob('video/*.mp4')\n",
    "    if len(mp4list) > 0:\n",
    "        mp4 = mp4list[0]\n",
    "        video = io.open(mp4, 'rb').read()\n",
    "        encoded = base64.b64encode(video).decode('ascii')\n",
    "        display(HTML(f'<video width=\"600\" controls><source src=\"data:video/mp4;base64,{encoded}\" type=\"video/mp4\"></video>'))\n",
    "    else:\n",
    "        print(\"Could not find video\")\n",
    "\n",
    "def videoEpisode(agent):\n",
    "    env = RecordVideo(gym.make('CartPole-v1', render_mode='rgb_array'), \"./video\")\n",
    "    state, _ = env.reset()\n",
    "    done = False\n",
    "    while not done:\n",
    "        action = agent.run(state)\n",
    "        next_state, reward, done, _, _ = env.step(action)\n",
    "        state = next_state\n",
    "    env.close()\n",
    "    show_video()\n",
    "    return\n",
    "\n",
    "videoEpisode(Monte_Carlo_Agent)"
   ]
  },
  {
   "cell_type": "markdown",
   "metadata": {},
   "source": [
    "## Task 4\n",
    "### Format the Jupyter notebook by including step-by-step instruction and explanation, such that the notebook is easy to follow and run (refer to the tutorial section in the sample notebook). Include text explanation to demonstrate the originality of your implementation and your understanding of the code. \n",
    "\n",
    "Done."
   ]
  }
 ],
 "metadata": {
  "kernelspec": {
   "display_name": "base",
   "language": "python",
   "name": "python3"
  },
  "language_info": {
   "codemirror_mode": {
    "name": "ipython",
    "version": 3
   },
   "file_extension": ".py",
   "mimetype": "text/x-python",
   "name": "python",
   "nbconvert_exporter": "python",
   "pygments_lexer": "ipython3",
   "version": "3.12.3"
  }
 },
 "nbformat": 4,
 "nbformat_minor": 2
}
