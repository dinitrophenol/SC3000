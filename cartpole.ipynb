{
 "cells": [
  {
   "cell_type": "markdown",
   "metadata": {},
   "source": [
    "### Contributions\n",
    "Kent Karsten Pangestu\n",
    "* Task 1,2,3,4"
   ]
  },
  {
   "cell_type": "code",
   "execution_count": 11,
   "metadata": {},
   "outputs": [],
   "source": [
    "import gym\n",
    "import base64\n",
    "import glob\n",
    "import io\n",
    "from IPython import display as ipythondisplay\n",
    "from IPython.display import HTML\n",
    "from gym.wrappers import RecordVideo\n",
    "import base64\n",
    "from gym import logger as gymlogger\n",
    "from collections import defaultdict\n",
    "import numpy as np\n",
    "from matplotlib import pyplot as plt\n",
    "import warnings\n",
    "warnings.filterwarnings(\"ignore\")"
   ]
  },
  {
   "cell_type": "markdown",
   "metadata": {},
   "source": [
    "# CartPole Environment"
   ]
  },
  {
   "cell_type": "code",
   "execution_count": 12,
   "metadata": {},
   "outputs": [
    {
     "name": "stdout",
     "output_type": "stream",
     "text": [
      "Action Space: Discrete(2)\n",
      "Observation Space: Box([-4.8000002e+00 -3.4028235e+38 -4.1887903e-01 -3.4028235e+38], [4.8000002e+00 3.4028235e+38 4.1887903e-01 3.4028235e+38], (4,), float32)\n"
     ]
    }
   ],
   "source": [
    "env = gym.make(\"CartPole-v1\")\n",
    "\n",
    "print(f\"Action Space: {env.action_space}\")\n",
    "print(f\"Observation Space: {env.observation_space}\")"
   ]
  },
  {
   "cell_type": "markdown",
   "metadata": {},
   "source": [
    "### Action Space\n",
    "The action space takes discrete values of either **0** or **1**, pushing the cart to the left or right respectively.\n",
    "\n",
    "### Observation Space\n",
    "The observation space takes continuous values, summarised in the table below.\n",
    "\n",
    "<table style=\"width:70%; font-size: 14px; border: 1px solid black; border-collapse: collapse;\">\n",
    "  <tr>\n",
    "    <th>Num</th>\n",
    "    <th>Observation</th>\n",
    "    <th>Min</th>\n",
    "    <th>Max</th>\n",
    "  </tr>\n",
    "  <tr>\n",
    "    <td>0</td>\n",
    "    <td>Cart Position</td>\n",
    "    <td>-4.8</td>\n",
    "    <td>4.8</td>\n",
    "  </tr>\n",
    "  <tr>\n",
    "    <td>1</td>\n",
    "    <td>Cart Velocity</td>\n",
    "    <td>-Inf</td>\n",
    "    <td>Inf</td>\n",
    "  </tr>\n",
    "  <tr>\n",
    "    <td>2</td>\n",
    "    <td>Pole Angle</td>\n",
    "    <td>~ -0.418 rad (-24°)</td>\n",
    "    <td>~ 0.418 rad (24°)</td>\n",
    "  </tr>\n",
    "  <tr>\n",
    "    <td>3</td>\n",
    "    <td>Pole Angular Velocity</td>\n",
    "    <td>-Inf</td>\n",
    "    <td>Inf</td>\n",
    "  </tr>\n",
    "</table>\n",
    "\n",
    "### Reward\n",
    "Since the goal is to keep the pole upright for as long as possible, a reward of **+1** for every step taken, including the termination step, is allotted.\n",
    "\n",
    "\n",
    "### Starting State\n",
    "All observations are assigned a uniformly random value in (-0.05, 0.05).\n",
    "\n",
    "### Terminating Conditions\n",
    "An episode ends if any one of the following occurs:\n",
    "\n",
    "* Pole Angle is greater than ±12°\n",
    "\n",
    "* Cart Position is greater than ±2.4 (center of the cart reaches the edge of the display)\n",
    "\n",
    "* Episode length is greater than 500\n"
   ]
  },
  {
   "cell_type": "markdown",
   "metadata": {},
   "source": [
    "### Task 1:  Development of an RL Agent"
   ]
  },
  {
   "cell_type": "markdown",
   "metadata": {},
   "source": [
    "We implemented the Monte-Carlo: Control algorithm as outlined below.\n",
    "\n",
    "![alt text](mc_algorithm.png)"
   ]
  },
  {
   "cell_type": "markdown",
   "metadata": {},
   "source": [
    "Since all 4 observed values in the observation space are continuous, we need to discretise them into bins. \n",
    "\n",
    "* `cart_position` is split into **4** bins with intervals of **2.5**\n",
    "* `cart_velocity` is split into **4** bins with intervals of **2.5** \n",
    "* `pole_angle` is split into **10** bins with intervals of **0.1** \n",
    "* `pole_angular_velocity` is split into **40** bins with intervals of **0.25**\n",
    "\n",
    "Through trial-and error, we found that `pole_angular_velocity` is the most important factor in the learning growth, followed by `pole_angle`. Hence, they are set with relatively more bins to account for more precise changes."
   ]
  },
  {
   "cell_type": "code",
   "execution_count": 13,
   "metadata": {},
   "outputs": [],
   "source": [
    "cart_position_bins = np.linspace(-4.8, 4.8, 4)\n",
    "cart_velocity_bins = np.linspace(-5, 5, 4)\n",
    "pole_angle_bins = np.linspace(-0.5, 0.5, 10)\n",
    "pole_angular_velocity_bins = np.linspace(-5, 5, 40)"
   ]
  },
  {
   "cell_type": "markdown",
   "metadata": {},
   "source": [
    "We determined that exploration is much more important than exploitation in this context due to the large state space. Hence, the hyperparameters are adjusted to accommodate exploration over exploitation in the beginning stages. More specifically,\n",
    "\n",
    "* `discount_factor γ` determines the importance of future rewards when evaluating the expected returns from a state-action pair. It is set at **0.99** to prioritise long-term rewards, encouraging the agent to learn strategies that optimise the overall return rather than focusing only on immediate rewards.\n",
    "\n",
    "* `epsilon ϵ` adds noise to allow the agent to explore other actions besides the current best-known action at a given state. It is set at **1** to encourage complete exploration early on when it has little knowledge of the environment, which is especially important in large state spaces.\n",
    "\n",
    "* `epsilon_decay` decreases ϵ over time. It is set at **0.9995** to gradually transition to exploitation over exploration as the agent gains more knowledge and becomes more confident in its decisions.\n",
    "\n",
    "* `epsilon_min` sets a minimum threshold allowed for ϵ. It is set at **0.07** to ensure that the agent keeps exploring even at the later stages, preventing overly greedy actions that only satisfies a local optima.\n"
   ]
  },
  {
   "cell_type": "code",
   "execution_count": null,
   "metadata": {},
   "outputs": [],
   "source": [
    "class Monte_Carlo():\n",
    "    def __init__(self, env, discount_factor = 0.99, epsilon = 1.0, epsilon_decay = 0.9995, epsilon_min = 0.07) -> None:\n",
    "        self.env = env\n",
    "        self.q_table = defaultdict(int)\n",
    "        self.returns = defaultdict(int)\n",
    "        self.visits = defaultdict(int)\n",
    "        self.discount_factor = discount_factor # γ\n",
    "        self.epsilon = epsilon # ϵ\n",
    "        self.epsilon_decay = epsilon_decay \n",
    "        self.epsilon_min = epsilon_min \n",
    "    \n",
    "    def discretise_state(self, state: np.ndarray) -> tuple:\n",
    "        cart_position, cart_velocity, pole_angle, pole_angular_velocity = state\n",
    "        \n",
    "        cart_position = np.digitize(cart_position, cart_position_bins) - 1\n",
    "        cart_velocity = np.digitize(cart_velocity, cart_velocity_bins) - 1\n",
    "        pole_angle = np.digitize(pole_angle, pole_angle_bins) - 1\n",
    "        pole_angular_velocity = np.digitize(pole_angular_velocity, pole_angular_velocity_bins) - 1\n",
    "        return (cart_position, cart_velocity, pole_angle, pole_angular_velocity)\n",
    "    \n",
    "    def decay_epsilon(self) -> None:\n",
    "        self.epsilon = max(self.epsilon * self.epsilon_decay, self.epsilon_min)\n",
    "\n",
    "    def policy(self, state) -> int:\n",
    "        if np.random.rand() < self.epsilon: # Noise added\n",
    "            return self.env.action_space.sample()\n",
    "        else:\n",
    "            return max(range(self.env.action_space.n), key=lambda a: self.q_table.get((state, a), np.random.uniform(low=0, high=1)))\n",
    "\n",
    "    def generate_episode(self) -> tuple:\n",
    "        episode = []\n",
    "        state, _ = self.env.reset() # Environment is reset at the beginning of each episode\n",
    "        state = self.discretise_state(state)\n",
    "        done = False\n",
    "        cumulative_reward = 0\n",
    "        while not done:\n",
    "            action = self.policy(state)\n",
    "            next_state, reward, done, _, _ = self.env.step(action)\n",
    "            episode.append((state, action, reward))\n",
    "            state = self.discretise_state(next_state)\n",
    "            cumulative_reward += reward\n",
    "            if cumulative_reward > 499:\n",
    "                break\n",
    "        return (episode, cumulative_reward)\n",
    "    \n",
    "    def update_q_table(self, episode) -> None:\n",
    "        G = 0\n",
    "        state_action_visited = defaultdict(int)\n",
    "\n",
    "        # Iterate backwards according to G(t) = r(t) + y * G(t+1)\n",
    "        for i in reversed(range(len(episode))):\n",
    "            state, action, reward = episode[i]\n",
    "            G = reward + self.discount_factor * G\n",
    "            state_action_visited[(state, action)] = G # Computes returns using first-visit MC method\n",
    "\n",
    "            for key, val in state_action_visited.items():\n",
    "                # Update Q table for each state-action pair\n",
    "                self.returns[key] += val\n",
    "                self.visits[key] += 1\n",
    "                self.q_table[key] = self.returns[key] / self.visits[key]\n",
    "    \n",
    "    def train_episodes(self, num_episodes) -> None:\n",
    "        reward = 0 \n",
    "        for i in range(1,num_episodes+2):\n",
    "            episode , cumulative_reward = self.generate_episode()\n",
    "            self.update_q_table(episode)\n",
    "            reward += cumulative_reward\n",
    "            self.decay_epsilon()   \n",
    "            if i % 1000 == 0:\n",
    "                print(f\"Mean reward for the first {i} episodes: {reward/1000}\")\n",
    "                reward = 0\n",
    "        \n",
    "    def run(self, raw_state) -> int:\n",
    "        state = self.discretise_state(raw_state)\n",
    "        return max(range(self.env.action_space.n), key=lambda a: self.q_table.get(state, a))\n",
    "    \n",
    "    def test_episodes(self, num_episodes) -> list:\n",
    "        reward_list = []\n",
    "\n",
    "        for episode in range(num_episodes):\n",
    "            state, _ = self.env.reset()\n",
    "            done = False\n",
    "            cumulative_reward = 0\n",
    "\n",
    "            while not done:\n",
    "                action = self.run(state)\n",
    "                next_state, reward, done, _, _ = self.env.step(action)\n",
    "                cumulative_reward += reward\n",
    "                if cumulative_reward > 499:\n",
    "                    break\n",
    "                state = next_state\n",
    "                \n",
    "            reward_list.append(cumulative_reward)\n",
    "            \n",
    "        return reward_list"
   ]
  },
  {
   "cell_type": "markdown",
   "metadata": {},
   "source": [
    "### These methods are implemented for an agent:\n",
    "\n",
    "`discretise_state()`\n",
    "\n",
    "Converts a continuous state into discrete values.\n",
    "\n",
    "`decay_epsilon()`\n",
    "\n",
    "Reduces the exploration factor (epsilon) after each episode.\n",
    "\n",
    "`policy()`\n",
    "\n",
    "Rule to Determine which action to take at a particular state.\n",
    "\n",
    "`generate_episode()`\n",
    "\n",
    "Generates an episode and its associated reward.\n",
    "\n",
    "`update_q_table()`\n",
    "\n",
    "Updates the Q-values in the Q-table based on the experience gained from an episode using an update rule.\n",
    "\n",
    "`train_episodes()`\n",
    "\n",
    "Runs the agent through multiple episodes, updating the Q-table after every episode and decreasing epsilon.\n",
    "\n",
    "`run()`\n",
    "\n",
    "Given a state, it determines the best possible action based on the current Q-values.\n",
    "\n",
    "`test_episodes()`\n",
    "\n",
    "Tests the agent by running it through multiple episodes, recording the cumulative rewards, and evaluating its performance based on the current Q-values."
   ]
  },
  {
   "cell_type": "markdown",
   "metadata": {},
   "source": [
    "The agent is trained on 6000 episodes, and the average reward every 1000 episodes is indicated to highlight the agent's progress."
   ]
  },
  {
   "cell_type": "code",
   "execution_count": 15,
   "metadata": {},
   "outputs": [
    {
     "name": "stdout",
     "output_type": "stream",
     "text": [
      "Mean reward for the first 1000 episodes: 46.131\n",
      "Mean reward for the first 2000 episodes: 142.257\n",
      "Mean reward for the first 3000 episodes: 199.851\n",
      "Mean reward for the first 4000 episodes: 195.692\n",
      "Mean reward for the first 5000 episodes: 190.172\n",
      "Mean reward for the first 6000 episodes: 189.354\n"
     ]
    }
   ],
   "source": [
    "Monte_Carlo_Agent = Monte_Carlo(env)\n",
    "Monte_Carlo_Agent.train_episodes(6000)"
   ]
  },
  {
   "cell_type": "markdown",
   "metadata": {},
   "source": [
    "We also implemented the Q-Learning algorithm as outlined below. We found that Q-Learning is a much more effective algorithm, given the same hyperparameters. \n",
    "\n",
    "<img src=\"q_learning_algorithm.png\" width=\"800\" height=\"340\">"
   ]
  },
  {
   "cell_type": "markdown",
   "metadata": {},
   "source": [
    "We explored the algorithm given the same number of bins for each variable, the same values for `discount_factor γ` at 0.99, `epsilon ϵ` at 1, `epsilon_decay` at 0.995, and `epsilon_min` at 0.07 as with the previous algorithm. In addition, we added `learning_rate α`, which is needed in a Q-Learning algorithm.\n",
    "\n",
    "* `learning_rate α` controls how much the Q-values are updated in each step of an episode. It is set low at **0.1** to allow for more stability during the training process by ensuring that the agent learns more gradually.\n"
   ]
  },
  {
   "cell_type": "code",
   "execution_count": 21,
   "metadata": {},
   "outputs": [],
   "source": [
    "class QLearning:\n",
    "    def __init__(self, env, learning_rate=0.1, discount_factor=0.99,\n",
    "                 epsilon=1.0, epsilon_decay=0.9995, epsilon_min=0.07):\n",
    "        self.env = env\n",
    "        self.learning_rate = learning_rate\n",
    "        self.discount_factor = discount_factor\n",
    "        self.epsilon = epsilon\n",
    "        self.epsilon_decay = epsilon_decay\n",
    "        self.epsilon_min = epsilon_min\n",
    "        self.observation = [4, 4, 10, 40] # Number of bins set for each variable in an observation\n",
    "        self.window_size = np.array([2.5, 2.5, 0.1, 0.25]) # Size of each bin\n",
    "        self.q_table = np.random.uniform(low=0, high=1, size=(self.observation + [env.action_space.n])) # Q-table initialised with arbitrary values\n",
    "\n",
    "    def discretise_state(self, state):\n",
    "        discrete_state = state/self.window_size + np.array([2,2,5,20]) # Normalise the state values to ensure they are within bounds of the bin \n",
    "        return tuple(discrete_state.astype(int)) # Truncate and convert to tuple to use as a key in the Q-table\n",
    "\n",
    "    def decay_epsilon(self):\n",
    "        self.epsilon = max(self.epsilon_min, self.epsilon * self.epsilon_decay)\n",
    "\n",
    "    def policy(self, state):\n",
    "        if np.random.random() < self.epsilon: # Noise added\n",
    "            return self.env.action_space.sample()\n",
    "        else:\n",
    "            return np.argmax(self.q_table[state]) \n",
    "        \n",
    "    def generate_episode(self):\n",
    "        state, _ = self.env.reset()\n",
    "        state = self.discretise_state(state)\n",
    "        done = False\n",
    "        cumulative_reward = 0\n",
    "\n",
    "        while not done:\n",
    "            action = self.policy(state)\n",
    "            next_state, reward, done, _, _ = self.env.step(action)\n",
    "            next_state = self.discretise_state(next_state)\n",
    "            cumulative_reward += reward\n",
    "\n",
    "            if cumulative_reward > 499:\n",
    "                break\n",
    "            \n",
    "            self.update_q_table(state, next_state, action, reward)\n",
    "            state = next_state\n",
    "\n",
    "\n",
    "        return cumulative_reward\n",
    "\n",
    "    def update_q_table(self, state, next_state, action, reward):\n",
    "        current_q = self.q_table[state + (action,)]\n",
    "        next_max_q = np.max(self.q_table[next_state])\n",
    "        \n",
    "        # Update Q-value using the Bellman equation: Q(s, a) = (1 - α) * Q(s, a) + α * (r + γ * max_a(Q(s', a')))\n",
    "        new_q = (1 - self.learning_rate) * current_q + self.learning_rate * (reward + self.discount_factor * next_max_q)\n",
    "        self.q_table[state + (action,)] = new_q\n",
    "\n",
    "    def train_episodes(self, num_episodes):\n",
    "        reward = 0 \n",
    "        for episode in range(1,num_episodes+2):\n",
    "            reward += self.generate_episode()\n",
    "            self.decay_epsilon()   \n",
    "            if episode % 1000 == 0:\n",
    "                print(f\"Mean reward for the first {episode} episodes: {reward/1000}\")\n",
    "                reward = 0\n",
    "        \n",
    "        return reward\n",
    "    \n",
    "    def run(self, raw_state):\n",
    "        \"\"\"Determines the optimal action to take based on current knowledge.\"\"\"\n",
    "        state = self.discretise_state(raw_state)\n",
    "        action = np.argmax(self.q_table[state])\n",
    "        return action\n",
    "    \n",
    "    def test_episodes(self, num_episodes):\n",
    "        reward_list = []\n",
    "\n",
    "        for episode in range(num_episodes):\n",
    "            state, _ = self.env.reset()\n",
    "            done = False\n",
    "            cumulative_reward = 0\n",
    "\n",
    "            while not done:\n",
    "                action = self.run(state)\n",
    "                next_state, reward, done, _, _ = self.env.step(action)\n",
    "                cumulative_reward += reward\n",
    "                if cumulative_reward > 499:\n",
    "                    break\n",
    "                state = next_state\n",
    "                \n",
    "            reward_list.append(cumulative_reward)\n",
    "            \n",
    "        return reward_list\n"
   ]
  },
  {
   "cell_type": "markdown",
   "metadata": {},
   "source": [
    "The agent is trained on 5000 episodes, and the average reward every 1000 episodes is indicated to highlight the agent's progress."
   ]
  },
  {
   "cell_type": "code",
   "execution_count": 22,
   "metadata": {},
   "outputs": [
    {
     "name": "stdout",
     "output_type": "stream",
     "text": [
      "Mean reward for the first 1000 episodes: 32.321\n",
      "Mean reward for the first 2000 episodes: 148.846\n",
      "Mean reward for the first 3000 episodes: 314.279\n",
      "Mean reward for the first 4000 episodes: 401.773\n",
      "Mean reward for the first 5000 episodes: 414.346\n"
     ]
    },
    {
     "data": {
      "text/plain": [
       "500.0"
      ]
     },
     "execution_count": 22,
     "metadata": {},
     "output_type": "execute_result"
    }
   ],
   "source": [
    "Q_agent = QLearning(env)\n",
    "Q_agent.train_episodes(5000)"
   ]
  },
  {
   "cell_type": "markdown",
   "metadata": {},
   "source": [
    "We can see that the agent learns much better with Q-Learning than Monte-Carlo. \n",
    "\n",
    "### Hence, we will be using the Q-Learning agent for the remaining tasks.\n",
    "\n",
    "The agent is tested on a random state of the environment."
   ]
  },
  {
   "cell_type": "code",
   "execution_count": 23,
   "metadata": {},
   "outputs": [
    {
     "name": "stdout",
     "output_type": "stream",
     "text": [
      "Observation: [-4.6075437e-02 -4.1246563e-02  6.3011728e-05  3.4020457e-02]\n",
      "Chosen action: 1\n"
     ]
    }
   ],
   "source": [
    "state, _ = env.reset()\n",
    "action = Q_agent.run(state)\n",
    "print(\"Observation:\", state)\n",
    "print(\"Chosen action:\", action)"
   ]
  },
  {
   "cell_type": "markdown",
   "metadata": {},
   "source": [
    "### Task 2: Demonstrate the effectiveness of the RL agent"
   ]
  },
  {
   "cell_type": "code",
   "execution_count": 24,
   "metadata": {},
   "outputs": [
    {
     "data": {
      "image/png": "[encoded data removed]",
      "text/plain": [
       "<Figure size 640x480 with 1 Axes>"
      ]
     },
     "metadata": {},
     "output_type": "display_data"
    },
    {
     "name": "stdout",
     "output_type": "stream",
     "text": [
      "Average cumulative reward: 500.0\n",
      "Is my agent good enough? True\n"
     ]
    }
   ],
   "source": [
    "episode_results = Q_agent.test_episodes(100)\n",
    "\n",
    "plt.plot(episode_results)\n",
    "plt.title(\"Cumulative reward for each episode\")\n",
    "plt.ylabel('Rewards')\n",
    "plt.xlabel('Episodes')\n",
    "plt.show()\n",
    "\n",
    "print(\"Average cumulative reward:\", np.mean(episode_results))\n",
    "print(\"Is my agent good enough?\", np.mean(episode_results) > 195)"
   ]
  },
  {
   "cell_type": "markdown",
   "metadata": {},
   "source": [
    "### Task 3: Render one episode played by the agent"
   ]
  },
  {
   "cell_type": "code",
   "execution_count": 27,
   "metadata": {},
   "outputs": [
    {
     "name": "stdout",
     "output_type": "stream",
     "text": [
      "MoviePy - Building video d:\\Files\\VS Code\\SC3000\\SC3000\\video\\rl-video-episode-0.mp4.\n",
      "MoviePy - Writing video d:\\Files\\VS Code\\SC3000\\SC3000\\video\\rl-video-episode-0.mp4\n",
      "\n"
     ]
    },
    {
     "name": "stderr",
     "output_type": "stream",
     "text": [
      "                                                                          \r"
     ]
    },
    {
     "name": "stdout",
     "output_type": "stream",
     "text": [
      "MoviePy - Done !\n",
      "MoviePy - video ready d:\\Files\\VS Code\\SC3000\\SC3000\\video\\rl-video-episode-0.mp4\n"
     ]
    },
    {
     "data": {
      "text/html": [
       "<video width=\"600\" controls><source src=\"data:video/mp4;base64,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\" type=\"video/mp4\"></video>"
      ],
      "text/plain": [
       "<IPython.core.display.HTML object>"
      ]
     },
     "metadata": {},
     "output_type": "display_data"
    }
   ],
   "source": [
    "def show_video():\n",
    "    mp4list = glob.glob('video/*.mp4')\n",
    "    if len(mp4list) > 0:\n",
    "        mp4 = mp4list[0]\n",
    "        video = io.open(mp4, 'rb').read()\n",
    "        encoded = base64.b64encode(video).decode('ascii')\n",
    "        display(HTML(f'<video width=\"600\" controls><source src=\"data:video/mp4;base64,{encoded}\" type=\"video/mp4\"></video>'))\n",
    "    else:\n",
    "        print(\"Could not find video\")\n",
    "\n",
    "def videoEpisode(agent):\n",
    "    env = RecordVideo(gym.make('CartPole-v1', render_mode='rgb_array'), \"./video\")\n",
    "    state, _ = env.reset()\n",
    "    done = False\n",
    "    while not done:\n",
    "        action = agent.run(state)\n",
    "        next_state, reward, done, _, _ = env.step(action)\n",
    "        state = next_state\n",
    "    env.close()\n",
    "    show_video()\n",
    "    return\n",
    "\n",
    "videoEpisode(Q_agent)"
   ]
  },
  {
   "cell_type": "markdown",
   "metadata": {},
   "source": [
    "### Task 4\n",
    "Format the Jupyter notebook by including step-by-step instruction and explanation, such that the notebook is easy to follow and run (refer to the tutorial section in the sample notebook). Include text explanation to demonstrate the originality of your implementation and your understanding of the code. \n",
    "\n",
    "Done."
   ]
  }
 ],
 "metadata": {
  "kernelspec": {
   "display_name": "base",
   "language": "python",
   "name": "python3"
  },
  "language_info": {
   "codemirror_mode": {
    "name": "ipython",
    "version": 3
   },
   "file_extension": ".py",
   "mimetype": "text/x-python",
   "name": "python",
   "nbconvert_exporter": "python",
   "pygments_lexer": "ipython3",
   "version": "3.12.3"
  }
 },
 "nbformat": 4,
 "nbformat_minor": 2
}
