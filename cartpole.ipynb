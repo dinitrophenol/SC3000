{
 "cells": [
  {
   "cell_type": "markdown",
   "metadata": {},
   "source": [
    "### Contributions\n",
    "Kent Karsten Pangestu\n",
    "* Task 1,2,3,4"
   ]
  },
  {
   "cell_type": "code",
   "execution_count": 11,
   "metadata": {},
   "outputs": [],
   "source": [
    "import gym\n",
    "import base64\n",
    "import glob\n",
    "import io\n",
    "from IPython import display as ipythondisplay\n",
    "from IPython.display import HTML\n",
    "from gym.wrappers import RecordVideo\n",
    "import base64\n",
    "from gym import logger as gymlogger\n",
    "from collections import defaultdict\n",
    "import numpy as np\n",
    "from matplotlib import pyplot as plt\n",
    "import warnings\n",
    "warnings.filterwarnings(\"ignore\")"
   ]
  },
  {
   "cell_type": "markdown",
   "metadata": {},
   "source": [
    "# CartPole Environment"
   ]
  },
  {
   "cell_type": "code",
   "execution_count": 12,
   "metadata": {},
   "outputs": [
    {
     "name": "stdout",
     "output_type": "stream",
     "text": [
      "Action Space: Discrete(2)\n",
      "Observation Space: Box([-4.8000002e+00 -3.4028235e+38 -4.1887903e-01 -3.4028235e+38], [4.8000002e+00 3.4028235e+38 4.1887903e-01 3.4028235e+38], (4,), float32)\n"
     ]
    }
   ],
   "source": [
    "env = gym.make(\"CartPole-v1\")\n",
    "\n",
    "print(f\"Action Space: {env.action_space}\")\n",
    "print(f\"Observation Space: {env.observation_space}\")"
   ]
  },
  {
   "cell_type": "markdown",
   "metadata": {},
   "source": [
    "### Action Space\n",
    "The action space takes discrete values of either **0** or **1**, pushing the cart to the left or right respectively.\n",
    "\n",
    "### Observation Space\n",
    "The observation space takes continuous values, summarised in the table below.\n",
    "\n",
    "<table style=\"width:70%; font-size: 14px; border: 1px solid black; border-collapse: collapse;\">\n",
    "  <tr>\n",
    "    <th>Num</th>\n",
    "    <th>Observation</th>\n",
    "    <th>Min</th>\n",
    "    <th>Max</th>\n",
    "  </tr>\n",
    "  <tr>\n",
    "    <td>0</td>\n",
    "    <td>Cart Position</td>\n",
    "    <td>-4.8</td>\n",
    "    <td>4.8</td>\n",
    "  </tr>\n",
    "  <tr>\n",
    "    <td>1</td>\n",
    "    <td>Cart Velocity</td>\n",
    "    <td>-Inf</td>\n",
    "    <td>Inf</td>\n",
    "  </tr>\n",
    "  <tr>\n",
    "    <td>2</td>\n",
    "    <td>Pole Angle</td>\n",
    "    <td>~ -0.418 rad (-24°)</td>\n",
    "    <td>~ 0.418 rad (24°)</td>\n",
    "  </tr>\n",
    "  <tr>\n",
    "    <td>3</td>\n",
    "    <td>Pole Angular Velocity</td>\n",
    "    <td>-Inf</td>\n",
    "    <td>Inf</td>\n",
    "  </tr>\n",
    "</table>\n",
    "\n",
    "### Reward\n",
    "Since the goal is to keep the pole upright for as long as possible, a reward of **+1** for every step taken, including the termination step, is allotted.\n",
    "\n",
    "\n",
    "### Starting State\n",
    "All observations are assigned a uniformly random value in (-0.05, 0.05).\n",
    "\n",
    "### Terminating Conditions\n",
    "An episode ends if any one of the following occurs:\n",
    "\n",
    "* Pole Angle is greater than ±12°\n",
    "\n",
    "* Cart Position is greater than ±2.4 (center of the cart reaches the edge of the display)\n",
    "\n",
    "* Episode length is greater than 500\n"
   ]
  },
  {
   "cell_type": "markdown",
   "metadata": {},
   "source": [
    "### Task 1:  Development of an RL Agent"
   ]
  },
  {
   "cell_type": "markdown",
   "metadata": {},
   "source": [
    "We implemented the Monte-Carlo: Control algorithm as outlined below.\n",
    "\n",
    "![alt text](mc_algorithm.png)"
   ]
  },
  {
   "cell_type": "markdown",
   "metadata": {},
   "source": [
    "Since all 4 observed values in the observation space are continuous, we need to discretise them into bins. \n",
    "\n",
    "* `cart_position` is split into **4** bins with intervals of **2.5**\n",
    "* `cart_velocity` is split into **4** bins with intervals of **2.5** \n",
    "* `pole_angle` is split into **10** bins with intervals of **0.1** \n",
    "* `pole_angular_velocity` is split into **40** bins with intervals of **0.25**\n",
    "\n",
    "Through trial-and error, we found that `pole_angular_velocity` is the most important factor in the learning growth, followed by `pole_angle`. Hence, they are set with relatively more bins to account for more precise changes."
   ]
  },
  {
   "cell_type": "code",
   "execution_count": 13,
   "metadata": {},
   "outputs": [],
   "source": [
    "cart_position_bins = np.linspace(-4.8, 4.8, 4)\n",
    "cart_velocity_bins = np.linspace(-5, 5, 4)\n",
    "pole_angle_bins = np.linspace(-0.5, 0.5, 10)\n",
    "pole_angular_velocity_bins = np.linspace(-5, 5, 40)"
   ]
  },
  {
   "cell_type": "markdown",
   "metadata": {},
   "source": [
    "We determined that exploration is much more important than exploitation in this context due to the large state space. Hence, the hyperparameters are adjusted to accommodate exploration over exploitation in the beginning stages. More specifically,\n",
    "\n",
    "* `discount_factor γ` determines the importance of future rewards when evaluating the expected returns from a state-action pair. It is set at **0.99** to prioritise long-term rewards, encouraging the agent to learn strategies that optimise the overall return rather than focusing only on immediate rewards.\n",
    "\n",
    "* `epsilon ϵ` adds noise to allow the agent to explore other actions besides the current best-known action at a given state. It is set at **1** to encourage complete exploration early on when it has little knowledge of the environment, which is especially important in large state spaces.\n",
    "\n",
    "* `epsilon_decay` decreases ϵ over time. It is set at **0.9995** to gradually transition to exploitation over exploration as the agent gains more knowledge and becomes more confident in its decisions.\n",
    "\n",
    "* `epsilon_min` sets a minimum threshold allowed for ϵ. It is set at **0.07** to ensure that the agent keeps exploring even at the later stages, preventing overly greedy actions that only satisfies a local optima.\n"
   ]
  },
  {
   "cell_type": "code",
   "execution_count": 14,
   "metadata": {},
   "outputs": [],
   "source": [
    "class Monte_Carlo():\n",
    "    def __init__(self, env, discount_factor = 0.99, epsilon = 1.0, epsilon_decay = 0.9995, epsilon_min = 0.07) -> None:\n",
    "        self.env = env\n",
    "        self.q_table = defaultdict(int)\n",
    "        self.returns = defaultdict(int)\n",
    "        self.visits = defaultdict(int)\n",
    "        self.discount_factor = discount_factor # γ\n",
    "        self.epsilon = epsilon # ϵ\n",
    "        self.epsilon_decay = epsilon_decay \n",
    "        self.epsilon_min = epsilon_min \n",
    "    \n",
    "    def discretise_state(self, state: np.ndarray) -> tuple:\n",
    "        \"\"\"Puts the state values into the respective discrete bins.\"\"\"\n",
    "        cart_position, cart_velocity, pole_angle, pole_angular_velocity = state\n",
    "        \n",
    "        cart_position = np.digitize(cart_position, cart_position_bins) - 1\n",
    "        cart_velocity = np.digitize(cart_velocity, cart_velocity_bins) - 1\n",
    "        pole_angle = np.digitize(pole_angle, pole_angle_bins) - 1\n",
    "        pole_angular_velocity = np.digitize(pole_angular_velocity, pole_angular_velocity_bins) - 1\n",
    "        return (cart_position, cart_velocity, pole_angle, pole_angular_velocity)\n",
    "    \n",
    "    def decay_epsilon(self) -> None:\n",
    "        \"\"\"Decays epsilon after each episode.\"\"\"\n",
    "        self.epsilon = max(self.epsilon * self.epsilon_decay, self.epsilon_min)\n",
    "\n",
    "    def policy(self, state) -> int:\n",
    "        \"\"\"Rule to determine which action to take at a particular state.\"\"\"\n",
    "        if np.random.rand() < self.epsilon: # Noise added\n",
    "            return self.env.action_space.sample()\n",
    "        else:\n",
    "            return max(range(self.env.action_space.n), key=lambda a: self.q_table.get((state, a), np.random.uniform(low=0, high=1)))\n",
    "\n",
    "    def generate_episode(self) -> tuple:\n",
    "        \"\"\"Generates one round of play.\"\"\"\n",
    "        episode = []\n",
    "        state, _ = self.env.reset() # Environment is reset at the beginning of each episode\n",
    "        state = self.discretise_state(state)\n",
    "        done = False\n",
    "        cumulative_reward = 0\n",
    "        while not done:\n",
    "            action = self.policy(state)\n",
    "            next_state, reward, done, _, _ = self.env.step(action)\n",
    "            episode.append((state, action, reward))\n",
    "            state = self.discretise_state(next_state)\n",
    "            cumulative_reward += reward\n",
    "            if cumulative_reward > 499:\n",
    "                break\n",
    "        return (episode, cumulative_reward)\n",
    "    \n",
    "    def update_q_table(self, episode) -> None:\n",
    "        \"\"\"Computes returns using first-visit MC method.\"\"\"\n",
    "        G = 0\n",
    "        state_action_visited = defaultdict(int)\n",
    "\n",
    "        # Iterate backwards according to G(t) = r(t) + y * G(t+1)\n",
    "        for i in reversed(range(len(episode))):\n",
    "            state, action, reward = episode[i]\n",
    "            G = reward + self.discount_factor * G\n",
    "            state_action_visited[(state, action)] = G\n",
    "\n",
    "            for key, val in state_action_visited.items():\n",
    "                # Update Q table for each state-action pair\n",
    "                self.returns[key] += val\n",
    "                self.visits[key] += 1\n",
    "                self.q_table[key] = self.returns[key] / self.visits[key]\n",
    "    \n",
    "    def train_episodes(self, num_episodes) -> None:\n",
    "        reward = 0 \n",
    "        for i in range(1,num_episodes+2):\n",
    "            episode , cumulative_reward = self.generate_episode()\n",
    "            self.update_q_table(episode)\n",
    "            reward += cumulative_reward\n",
    "            self.decay_epsilon()   \n",
    "            if i % 1000 == 0:\n",
    "                print(f\"Mean reward for the first {i} episodes: {reward/1000}\")\n",
    "                reward = 0\n",
    "        \n",
    "    def run(self, raw_state) -> int:\n",
    "        \"\"\"Determines the optimal action to take based on current knowledge.\"\"\"\n",
    "        state = self.discretise_state(raw_state)\n",
    "        return max(range(self.env.action_space.n), key=lambda a: self.q_table.get(state, a))\n",
    "    \n",
    "    def test_episodes(self, num_episodes) -> list:\n",
    "        reward_list = []\n",
    "\n",
    "        for episode in range(num_episodes):\n",
    "            state, _ = self.env.reset()\n",
    "            done = False\n",
    "            cumulative_reward = 0\n",
    "\n",
    "            while not done:\n",
    "                action = self.run(state)\n",
    "                next_state, reward, done, _, _ = self.env.step(action)\n",
    "                cumulative_reward += reward\n",
    "                if cumulative_reward > 499:\n",
    "                    break\n",
    "                state = next_state\n",
    "                \n",
    "            reward_list.append(cumulative_reward)\n",
    "            \n",
    "        return reward_list"
   ]
  },
  {
   "cell_type": "markdown",
   "metadata": {},
   "source": [
    "The agent is trained on 6000 episodes, and the average reward every 1000 episodes is indicated to highlight the agent's progress."
   ]
  },
  {
   "cell_type": "code",
   "execution_count": 15,
   "metadata": {},
   "outputs": [
    {
     "name": "stdout",
     "output_type": "stream",
     "text": [
      "Mean reward for the first 1000 episodes: 46.131\n",
      "Mean reward for the first 2000 episodes: 142.257\n",
      "Mean reward for the first 3000 episodes: 199.851\n",
      "Mean reward for the first 4000 episodes: 195.692\n",
      "Mean reward for the first 5000 episodes: 190.172\n",
      "Mean reward for the first 6000 episodes: 189.354\n"
     ]
    }
   ],
   "source": [
    "Monte_Carlo_Agent = Monte_Carlo(env)\n",
    "Monte_Carlo_Agent.train_episodes(6000)"
   ]
  },
  {
   "cell_type": "markdown",
   "metadata": {},
   "source": [
    "We also implemented the Q-Learning algorithm as outlined below. We found that Q-Learning is a much more effective algorithm, given the same hyperparameters. \n",
    "\n",
    "<img src=\"q_learning_algorithm.png\" width=\"800\" height=\"340\">"
   ]
  },
  {
   "cell_type": "markdown",
   "metadata": {},
   "source": [
    "We explored the algorithm given the same number of bins for each variable, the same values for `discount_factor γ` at 0.99, `epsilon ϵ` at 1, `epsilon_decay` at 0.995, and `epsilon_min` at 0.07 as with the previous algorithm. In addition, we added `learning_rate α`, which is needed in a Q-Learning algorithm.\n",
    "\n",
    "* `learning_rate α` controls how much the Q-values are updated in each step of an episode. It is set low at **0.1** to allow for more stability during the training process by ensuring that the agent learns more gradually.\n"
   ]
  },
  {
   "cell_type": "code",
   "execution_count": 21,
   "metadata": {},
   "outputs": [],
   "source": [
    "class QLearning:\n",
    "    def __init__(self, env, learning_rate=0.1, discount_factor=0.99,\n",
    "                 epsilon=1.0, epsilon_decay=0.9995, epsilon_min=0.07):\n",
    "        self.env = env\n",
    "        self.learning_rate = learning_rate\n",
    "        self.discount_factor = discount_factor\n",
    "        self.epsilon = epsilon\n",
    "        self.epsilon_decay = epsilon_decay\n",
    "        self.epsilon_min = epsilon_min\n",
    "        self.observation = [4, 4, 10, 40] # Number of bins set for each variable in an observation\n",
    "        self.window_size = np.array([2.5, 2.5, 0.1, 0.25]) # Size of each bin\n",
    "        self.q_table = np.random.uniform(low=0, high=1, size=(self.observation + [env.action_space.n])) # Q-table initialised with arbitrary values\n",
    "\n",
    "    def discretise_state(self, state):\n",
    "        discrete_state = state/self.window_size + np.array([2,2,5,20]) # Normalise the state values to ensure they are within bounds of the bin \n",
    "        return tuple(discrete_state.astype(int)) # Truncate and convert to tuple to use as a key in the Q-table\n",
    "\n",
    "    def decay_epsilon(self):\n",
    "        self.epsilon = max(self.epsilon_min, self.epsilon * self.epsilon_decay)\n",
    "\n",
    "    def policy(self, state):\n",
    "        if np.random.random() < self.epsilon: # Noise added\n",
    "            return self.env.action_space.sample()\n",
    "        else:\n",
    "            return np.argmax(self.q_table[state]) \n",
    "        \n",
    "    def generate_episode(self):\n",
    "        state, _ = self.env.reset()\n",
    "        state = self.discretise_state(state)\n",
    "        done = False\n",
    "        cumulative_reward = 0\n",
    "\n",
    "        while not done:\n",
    "            action = self.policy(state)\n",
    "            next_state, reward, done, _, _ = self.env.step(action)\n",
    "            next_state = self.discretise_state(next_state)\n",
    "            cumulative_reward += reward\n",
    "\n",
    "            if cumulative_reward > 499:\n",
    "                break\n",
    "            \n",
    "            self.update_q_table(state, next_state, action, reward)\n",
    "            state = next_state\n",
    "\n",
    "\n",
    "        return cumulative_reward\n",
    "\n",
    "    def update_q_table(self, state, next_state, action, reward):\n",
    "        current_q = self.q_table[state + (action,)]\n",
    "        next_max_q = np.max(self.q_table[next_state])\n",
    "        \n",
    "        # Update Q-value using the Bellman equation: Q(s, a) = (1 - α) * Q(s, a) + α * (r + γ * max_a(Q(s', a')))\n",
    "        new_q = (1 - self.learning_rate) * current_q + self.learning_rate * (reward + self.discount_factor * next_max_q)\n",
    "        self.q_table[state + (action,)] = new_q\n",
    "\n",
    "    def train_episodes(self, num_episodes):\n",
    "        reward = 0 \n",
    "        for episode in range(1,num_episodes+2):\n",
    "            reward += self.generate_episode()\n",
    "            self.decay_epsilon()   \n",
    "            if episode % 1000 == 0:\n",
    "                print(f\"Mean reward for the first {episode} episodes: {reward/1000}\")\n",
    "                reward = 0\n",
    "        \n",
    "        return reward\n",
    "    \n",
    "    def run(self, raw_state):\n",
    "        \"\"\"Determines the optimal action to take based on current knowledge.\"\"\"\n",
    "        state = self.discretise_state(raw_state)\n",
    "        action = np.argmax(self.q_table[state])\n",
    "        return action\n",
    "    \n",
    "    def test_episodes(self, num_episodes):\n",
    "        reward_list = []\n",
    "\n",
    "        for episode in range(num_episodes):\n",
    "            state, _ = self.env.reset()\n",
    "            done = False\n",
    "            cumulative_reward = 0\n",
    "\n",
    "            while not done:\n",
    "                action = self.run(state)\n",
    "                next_state, reward, done, _, _ = self.env.step(action)\n",
    "                cumulative_reward += reward\n",
    "                if cumulative_reward > 499:\n",
    "                    break\n",
    "                state = next_state\n",
    "                \n",
    "            reward_list.append(cumulative_reward)\n",
    "            \n",
    "        return reward_list\n"
   ]
  },
  {
   "cell_type": "markdown",
   "metadata": {},
   "source": [
    "The agent is trained on 5000 episodes, and the average reward every 1000 episodes is indicated to highlight the agent's progress."
   ]
  },
  {
   "cell_type": "code",
   "execution_count": 22,
   "metadata": {},
   "outputs": [
    {
     "name": "stdout",
     "output_type": "stream",
     "text": [
      "Mean reward for the first 1000 episodes: 32.321\n",
      "Mean reward for the first 2000 episodes: 148.846\n",
      "Mean reward for the first 3000 episodes: 314.279\n",
      "Mean reward for the first 4000 episodes: 401.773\n",
      "Mean reward for the first 5000 episodes: 414.346\n"
     ]
    },
    {
     "data": {
      "text/plain": [
       "500.0"
      ]
     },
     "execution_count": 22,
     "metadata": {},
     "output_type": "execute_result"
    }
   ],
   "source": [
    "Q_agent = QLearning(env)\n",
    "Q_agent.train_episodes(5000)"
   ]
  },
  {
   "cell_type": "markdown",
   "metadata": {},
   "source": [
    "We can see that the agent learns much better with Q-Learning than Monte-Carlo. \n",
    "\n",
    "### Hence, we will be using the Q-Learning agent for the remaining tasks.\n",
    "\n",
    "The agent is tested on a random state of the environment."
   ]
  },
  {
   "cell_type": "code",
   "execution_count": 23,
   "metadata": {},
   "outputs": [
    {
     "name": "stdout",
     "output_type": "stream",
     "text": [
      "Observation: [-4.6075437e-02 -4.1246563e-02  6.3011728e-05  3.4020457e-02]\n",
      "Chosen action: 1\n"
     ]
    }
   ],
   "source": [
    "state, _ = env.reset()\n",
    "action = Q_agent.run(state)\n",
    "print(\"Observation:\", state)\n",
    "print(\"Chosen action:\", action)"
   ]
  },
  {
   "cell_type": "markdown",
   "metadata": {},
   "source": [
    "### Task 2: Demonstrate the effectiveness of the RL agent"
   ]
  },
  {
   "cell_type": "code",
   "execution_count": 24,
   "metadata": {},
   "outputs": [
    {
     "data": {
      "image/png": "[encoded data removed]",
      "text/plain": [
       "<Figure size 640x480 with 1 Axes>"
      ]
     },
     "metadata": {},
     "output_type": "display_data"
    },
    {
     "name": "stdout",
     "output_type": "stream",
     "text": [
      "Average cumulative reward: 500.0\n",
      "Is my agent good enough? True\n"
     ]
    }
   ],
   "source": [
    "episode_results = Q_agent.test_episodes(100)\n",
    "\n",
    "plt.plot(episode_results)\n",
    "plt.title(\"Cumulative reward for each episode\")\n",
    "plt.ylabel('Rewards')\n",
    "plt.xlabel('Episodes')\n",
    "plt.show()\n",
    "\n",
    "print(\"Average cumulative reward:\", np.mean(episode_results))\n",
    "print(\"Is my agent good enough?\", np.mean(episode_results) > 195)"
   ]
  },
  {
   "cell_type": "markdown",
   "metadata": {},
   "source": [
    "### Task 3: Render one episode played by the agent"
   ]
  },
  {
   "cell_type": "code",
   "execution_count": 26,
   "metadata": {},
   "outputs": [
    {
     "name": "stdout",
     "output_type": "stream",
     "text": [
      "MoviePy - Building video d:\\Files\\VS Code\\SC3000\\SC3000\\video\\rl-video-episode-0.mp4.\n",
      "MoviePy - Writing video d:\\Files\\VS Code\\SC3000\\SC3000\\video\\rl-video-episode-0.mp4\n",
      "\n"
     ]
    },
    {
     "name": "stderr",
     "output_type": "stream",
     "text": [
      "                                                                          \r"
     ]
    },
    {
     "name": "stdout",
     "output_type": "stream",
     "text": [
      "MoviePy - Done !\n",
      "MoviePy - video ready d:\\Files\\VS Code\\SC3000\\SC3000\\video\\rl-video-episode-0.mp4\n"
     ]
    },
    {
     "data": {
      "text/html": [
       "<video width=\"600\" controls><source src=\"data:video/mp4;base64,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\" type=\"video/mp4\"></video>"
      ],
      "text/plain": [
       "<IPython.core.display.HTML object>"
      ]
     },
     "metadata": {},
     "output_type": "display_data"
    }
   ],
   "source": [
    "def show_video():\n",
    "    \"\"\"Finds and displays the recorded video.\"\"\"\n",
    "    mp4list = glob.glob('video/*.mp4')\n",
    "    if len(mp4list) > 0:\n",
    "        mp4 = mp4list[0]\n",
    "        video = io.open(mp4, 'rb').read()\n",
    "        encoded = base64.b64encode(video).decode('ascii')\n",
    "        display(HTML(f'<video width=\"600\" controls><source src=\"data:video/mp4;base64,{encoded}\" type=\"video/mp4\"></video>'))\n",
    "    else:\n",
    "        print(\"Could not find video\")\n",
    "\n",
    "def videoEpisode(agent):\n",
    "    \"\"\"Runs one episode, recording the video.\"\"\"\n",
    "    env = RecordVideo(gym.make('CartPole-v1', render_mode='rgb_array'), \"./video\")\n",
    "    state, _ = env.reset()\n",
    "    \n",
    "    done = False\n",
    "    while not done:\n",
    "        action = agent.run(state)  # Assuming `agent.run(state)` chooses an action\n",
    "        next_state, reward, done, _, _ = env.step(action)\n",
    "        state = next_state\n",
    "    \n",
    "    env.close()\n",
    "    show_video()\n",
    "\n",
    "    return\n",
    "\n",
    "# Call videoEpisode and pass your agent\n",
    "videoEpisode(Q_agent)"
   ]
  }
 ],
 "metadata": {
  "kernelspec": {
   "display_name": "base",
   "language": "python",
   "name": "python3"
  },
  "language_info": {
   "codemirror_mode": {
    "name": "ipython",
    "version": 3
   },
   "file_extension": ".py",
   "mimetype": "text/x-python",
   "name": "python",
   "nbconvert_exporter": "python",
   "pygments_lexer": "ipython3",
   "version": "3.12.3"
  }
 },
 "nbformat": 4,
 "nbformat_minor": 2
}
