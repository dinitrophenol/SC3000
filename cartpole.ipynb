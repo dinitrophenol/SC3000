{
 "cells": [
  {
   "cell_type": "markdown",
   "metadata": {},
   "source": [
    "## Contributions\n",
    "Kent Karsten Pangestu - Task 1,2,3,4"
   ]
  },
  {
   "cell_type": "code",
   "execution_count": 1,
   "metadata": {},
   "outputs": [],
   "source": [
    "import gym\n",
    "import base64\n",
    "import glob\n",
    "import io\n",
    "from IPython import display as ipythondisplay\n",
    "from IPython.display import HTML\n",
    "from gym.wrappers import RecordVideo\n",
    "import base64\n",
    "from gym import logger as gymlogger\n",
    "from collections import defaultdict\n",
    "import numpy as np\n",
    "from matplotlib import pyplot as plt\n",
    "import warnings\n",
    "warnings.filterwarnings(\"ignore\")\n",
    "from abc import ABC, abstractmethod"
   ]
  },
  {
   "cell_type": "markdown",
   "metadata": {},
   "source": [
    "# CartPole Environment"
   ]
  },
  {
   "cell_type": "code",
   "execution_count": 2,
   "metadata": {},
   "outputs": [
    {
     "name": "stdout",
     "output_type": "stream",
     "text": [
      "Action Space: Discrete(2)\n",
      "Observation Space: Box([-4.8000002e+00 -3.4028235e+38 -4.1887903e-01 -3.4028235e+38], [4.8000002e+00 3.4028235e+38 4.1887903e-01 3.4028235e+38], (4,), float32)\n"
     ]
    }
   ],
   "source": [
    "env = gym.make(\"CartPole-v1\")\n",
    "\n",
    "print(f\"Action Space: {env.action_space}\")\n",
    "print(f\"Observation Space: {env.observation_space}\")"
   ]
  },
  {
   "cell_type": "markdown",
   "metadata": {},
   "source": [
    "### Action Space\n",
    "The action space takes discrete values of either **0** or **1**, pushing the cart to the left or right respectively.\n",
    "\n",
    "### Observation Space\n",
    "The observation space takes continuous values, summarised in the table below.\n",
    "\n",
    "<table style=\"width:70%; font-size: 14px; border: 1px solid black; border-collapse: collapse;\">\n",
    "  <tr>\n",
    "    <th>Num</th>\n",
    "    <th>Observation</th>\n",
    "    <th>Min</th>\n",
    "    <th>Max</th>\n",
    "  </tr>\n",
    "  <tr>\n",
    "    <td>0</td>\n",
    "    <td>Cart Position</td>\n",
    "    <td>-4.8</td>\n",
    "    <td>4.8</td>\n",
    "  </tr>\n",
    "  <tr>\n",
    "    <td>1</td>\n",
    "    <td>Cart Velocity</td>\n",
    "    <td>-Inf</td>\n",
    "    <td>Inf</td>\n",
    "  </tr>\n",
    "  <tr>\n",
    "    <td>2</td>\n",
    "    <td>Pole Angle</td>\n",
    "    <td>~ -0.418 rad (-24°)</td>\n",
    "    <td>~ 0.418 rad (24°)</td>\n",
    "  </tr>\n",
    "  <tr>\n",
    "    <td>3</td>\n",
    "    <td>Pole Angular Velocity</td>\n",
    "    <td>-Inf</td>\n",
    "    <td>Inf</td>\n",
    "  </tr>\n",
    "</table>\n",
    "\n",
    "### Reward\n",
    "Since the goal is to keep the pole upright for as long as possible, a reward of **+1** for every step taken, including the termination step, is allotted.\n",
    "\n",
    "\n",
    "### Starting State\n",
    "All observations are assigned a uniformly random value in (-0.05, 0.05).\n",
    "\n",
    "### Terminating Conditions\n",
    "An episode ends if any one of the following occurs:\n",
    "\n",
    "* Pole Angle is greater than ±12°\n",
    "\n",
    "* Cart Position is greater than ±2.4 (center of the cart reaches the edge of the display)\n",
    "\n",
    "* Episode length is greater than 500\n"
   ]
  },
  {
   "cell_type": "markdown",
   "metadata": {},
   "source": [
    "## Task 1:  Development of an RL Agent"
   ]
  },
  {
   "cell_type": "markdown",
   "metadata": {},
   "source": [
    "Since all 4 observed values in the observation space are continuous, we need to discretise them into bins. \n",
    "\n",
    "* `cart_position` is split into **4** bins with intervals of **2.5**\n",
    "* `cart_velocity` is split into **4** bins with intervals of **2.5** \n",
    "* `pole_angle` is split into **10** bins with intervals of **0.1** \n",
    "* `pole_angular_velocity` is split into **40** bins with intervals of **0.25**\n",
    "\n",
    "Through trial-and error, we found that `pole_angular_velocity` is the most important factor in the learning growth, followed by `pole_angle`. Hence, they are set with relatively more bins to account for more precise changes."
   ]
  },
  {
   "cell_type": "markdown",
   "metadata": {},
   "source": [
    "We created a template class describing the basic attributes and methods for what an agent should have and do."
   ]
  },
  {
   "cell_type": "code",
   "execution_count": 3,
   "metadata": {},
   "outputs": [],
   "source": [
    "class Agent(ABC):\n",
    "    def __init__(self, env, discount_factor = 0.99, epsilon = 1.0, epsilon_decay = 0.9995, epsilon_min = 0.07) -> None:\n",
    "        self.env = env\n",
    "        self.discount_factor = discount_factor # γ\n",
    "        self.epsilon = epsilon # ϵ\n",
    "        self.epsilon_decay = epsilon_decay \n",
    "        self.epsilon_min = epsilon_min \n",
    "        self.observation = [4, 4, 10, 40] # Number of bins set for each variable in an observation\n",
    "        self.window_size = np.array([2.5, 2.5, 0.1, 0.25]) # Size of each bin\n",
    "        self.q_table = np.random.uniform(low=0, high=1, size=(self.observation + [env.action_space.n])) # Q-table initialised with arbitrary values\n",
    "    \n",
    "    def discretise_state(self, state) -> tuple:\n",
    "        \"\"\"\n",
    "        Converts a continuous state into its discrete values.\n",
    "\n",
    "        Returns a tuple of discrete values describing a state.\n",
    "        \"\"\"\n",
    "        discrete_state = state/self.window_size + np.array([2,2,5,20]) # Normalise the state values to ensure they are within bounds of the bin \n",
    "        return tuple(discrete_state.astype(int)) # Truncate and convert to tuple to use as a key in the Q-table\n",
    "    \n",
    "    def decay_epsilon(self) -> None:\n",
    "        \"\"\"Reduces the exploration factor (epsilon) after each episode.\"\"\"\n",
    "        self.epsilon = max(self.epsilon * self.epsilon_decay, self.epsilon_min)\n",
    "\n",
    "    def policy(self, state) -> int:\n",
    "        \"\"\"\n",
    "        Rule to determine which action to take at a particular state.\n",
    "        \n",
    "        Returns an action as either 0 or 1.\n",
    "        \"\"\"\n",
    "        if np.random.rand() < self.epsilon: # Noise added \n",
    "            return self.env.action_space.sample()\n",
    "        else:\n",
    "            return np.argmax(self.q_table[state]) \n",
    "\n",
    "    @abstractmethod\n",
    "    def generate_episode(self) -> int:\n",
    "        \"\"\"\n",
    "        Generates an episode. \n",
    "\n",
    "        (Algorithm dependent)\n",
    "\n",
    "        Returns the cumulative reward for one episode.\n",
    "        \"\"\"\n",
    "        pass\n",
    "\n",
    "    @abstractmethod\n",
    "    def update_q_table(self, episode) -> None:\n",
    "        \"\"\"Updates the Q-values in the Q-table using an update rule.\n",
    "\n",
    "        (Algorithm dependent)\n",
    "\n",
    "        \"\"\"\n",
    "        pass\n",
    "\n",
    "    def train_episodes(self, num_episodes) -> None:\n",
    "        \"\"\"Runs the agent through multiple episodes to learn from environment.\"\"\"\n",
    "        reward = 0 \n",
    "        for episode in range(1,num_episodes+2):\n",
    "            reward += self.generate_episode()\n",
    "            self.decay_epsilon() # Decay epsilon after each episode\n",
    "            if episode % 1000 == 0:\n",
    "                print(f\"Mean reward for the first {episode} episodes: {reward/1000}\")\n",
    "                reward = 0\n",
    "   \n",
    "    def run(self, raw_state) -> int:\n",
    "        \"\"\"\n",
    "        Determines the best possible action based on current Q-values.\n",
    "        \n",
    "        Returns an action as either 0 or 1.\n",
    "        \"\"\"\n",
    "        state = self.discretise_state(raw_state)\n",
    "        action = np.argmax(self.q_table[state])\n",
    "        return action\n",
    "    \n",
    "    def test_episodes(self, num_episodes) -> list:\n",
    "        \"\"\"\n",
    "        Tests the agent's performance based on current Q-values through multiple episodes.\n",
    "        \n",
    "        Returns a list of the cumulative rewards over num_episodes.\"\"\"\n",
    "        reward_list = []\n",
    "\n",
    "        for episode in range(num_episodes):\n",
    "            state, _ = self.env.reset()\n",
    "            done = False\n",
    "            cumulative_reward = 0\n",
    "\n",
    "            while not done:\n",
    "                action = self.run(state)\n",
    "                next_state, reward, done, _, _ = self.env.step(action)\n",
    "                cumulative_reward += reward\n",
    "                if cumulative_reward > 499:\n",
    "                    break\n",
    "                state = next_state\n",
    "                \n",
    "            reward_list.append(cumulative_reward)\n",
    "            \n",
    "        return reward_list\n",
    "    "
   ]
  },
  {
   "cell_type": "markdown",
   "metadata": {},
   "source": [
    "We determined that exploration is much more important than exploitation in this context due to the large state space. Hence, the hyperparameters are adjusted to accommodate exploration over exploitation in the beginning stages. More specifically,\n",
    "\n",
    "* `discount_factor γ` determines the importance of future rewards when evaluating the expected returns from a state-action pair. It is set at **0.99** to prioritise long-term rewards, encouraging the agent to learn strategies that optimise the overall return rather than focusing only on immediate rewards.\n",
    "\n",
    "* `epsilon ϵ` adds noise to allow the agent to explore other actions besides the current best-known action at a given state. It is set at **1** to encourage complete exploration early on when it has little knowledge of the environment, which is especially important in large state spaces.\n",
    "\n",
    "* `epsilon_decay` decreases ϵ over time. It is set at **0.9995** to gradually transition to exploitation over exploration as the agent gains more knowledge and becomes more confident in its decisions.\n",
    "\n",
    "* `epsilon_min` sets a minimum threshold allowed for ϵ. It is set at **0.07** to ensure that the agent keeps exploring even at the later stages, preventing overly greedy actions that only satisfies a local optima.\n"
   ]
  },
  {
   "cell_type": "markdown",
   "metadata": {},
   "source": [
    "### 1a. Monte-Carlo: Control\n",
    "\n",
    "We implemented the Monte-Carlo: Control algorithm as outlined below.\n",
    "\n",
    "![alt text](mc_algorithm.png)"
   ]
  },
  {
   "cell_type": "code",
   "execution_count": 4,
   "metadata": {},
   "outputs": [],
   "source": [
    "class Monte_Carlo(Agent):\n",
    "    def __init__(self, env) -> None:\n",
    "        super().__init__(env)\n",
    "        self.returns = defaultdict(int)\n",
    "        self.visits = defaultdict(int)\n",
    "\n",
    "    def generate_episode(self) -> int:\n",
    "        episode = []\n",
    "        state, _ = self.env.reset() # Environment is reset at the beginning of each episode\n",
    "        state = self.discretise_state(state)\n",
    "        done = False\n",
    "        cumulative_reward = 0\n",
    "        \n",
    "        while not done:\n",
    "            action = self.policy(state)\n",
    "            next_state, reward, done, _, _ = self.env.step(action)\n",
    "            episode.append((state, action, reward))\n",
    "            state = self.discretise_state(next_state)\n",
    "            cumulative_reward += reward\n",
    "\n",
    "            if cumulative_reward > 499:\n",
    "                break\n",
    "\n",
    "        self.update_q_table(episode)\n",
    "\n",
    "        return cumulative_reward\n",
    "    \n",
    "    def update_q_table(self, episode) -> None:\n",
    "        G = 0\n",
    "        state_action_visited = defaultdict(int)\n",
    "\n",
    "        # Iterate backwards according to G(t) = r(t) + y * G(t+1)\n",
    "        for i in reversed(range(len(episode))):\n",
    "            state, action, reward = episode[i]\n",
    "            G = reward + self.discount_factor * G\n",
    "            state_action_visited[(state, action)] = G # Computes returns using first-visit MC method\n",
    "\n",
    "            for (state, action), val in state_action_visited.items():\n",
    "                self.returns[(state, action)] += val\n",
    "                self.visits[(state, action)] += 1\n",
    "                self.q_table[state + (action,)] = self.returns[(state, action)] / self.visits[(state, action)] # Update Q table for each state-action pair"
   ]
  },
  {
   "cell_type": "markdown",
   "metadata": {},
   "source": [
    "The agent is trained on 5000 episodes, and the average reward every 1000 episodes is indicated to highlight the agent's progress."
   ]
  },
  {
   "cell_type": "code",
   "execution_count": 5,
   "metadata": {},
   "outputs": [
    {
     "name": "stdout",
     "output_type": "stream",
     "text": [
      "Mean reward for the first 1000 episodes: 42.138\n",
      "Mean reward for the first 2000 episodes: 174.87\n",
      "Mean reward for the first 3000 episodes: 409.507\n",
      "Mean reward for the first 4000 episodes: 486.285\n",
      "Mean reward for the first 5000 episodes: 498.425\n"
     ]
    }
   ],
   "source": [
    "Monte_Carlo_Agent = Monte_Carlo(env)\n",
    "Monte_Carlo_Agent.train_episodes(5000)"
   ]
  },
  {
   "cell_type": "markdown",
   "metadata": {},
   "source": [
    "Sampling a random state from the cart pole environment to the agent:"
   ]
  },
  {
   "cell_type": "code",
   "execution_count": 6,
   "metadata": {},
   "outputs": [
    {
     "name": "stdout",
     "output_type": "stream",
     "text": [
      "Observation: [-0.04063102 -0.02623406 -0.02474217  0.04725355]\n",
      "Chosen action: 0\n"
     ]
    }
   ],
   "source": [
    "state, _ = env.reset()\n",
    "action = Monte_Carlo_Agent.run(state)\n",
    "print(\"Observation:\", state)\n",
    "print(\"Chosen action:\", action)"
   ]
  },
  {
   "cell_type": "markdown",
   "metadata": {},
   "source": [
    "### 1b. Q-Learning\n",
    "\n",
    "We also implemented the Q-Learning algorithm as outlined below.\n",
    "\n",
    "<img src=\"q_learning_algorithm.png\" width=\"800\" height=\"340\">"
   ]
  },
  {
   "cell_type": "markdown",
   "metadata": {},
   "source": [
    "We added an extra hyperparameter `learning_rate α`, which is needed in a Q-Learning algorithm.\n",
    "\n",
    "* `learning_rate α` controls how much the Q-values are updated in each step of an episode. It is set low at **0.1** to allow for more stability during the training process by ensuring that the agent learns more gradually.\n"
   ]
  },
  {
   "cell_type": "code",
   "execution_count": 7,
   "metadata": {},
   "outputs": [],
   "source": [
    "class QLearning(Agent):\n",
    "    def __init__(self, env, learning_rate=0.1):\n",
    "        super().__init__(env)\n",
    "        self.learning_rate = learning_rate\n",
    "        \n",
    "    def generate_episode(self) -> int:\n",
    "        state, _ = self.env.reset()\n",
    "        state = self.discretise_state(state)\n",
    "        done = False\n",
    "        cumulative_reward = 0\n",
    "\n",
    "        while not done:\n",
    "            action = self.policy(state)\n",
    "            next_state, reward, done, _, _ = self.env.step(action)\n",
    "            next_state = self.discretise_state(next_state)\n",
    "            cumulative_reward += reward\n",
    "\n",
    "            if cumulative_reward > 499:\n",
    "                break\n",
    "            \n",
    "            self.update_q_table(state, next_state, action, reward)\n",
    "            state = next_state\n",
    "\n",
    "        return cumulative_reward\n",
    "\n",
    "    def update_q_table(self, state, next_state, action, reward) -> None:\n",
    "        current_q = self.q_table[state + (action,)]\n",
    "        next_max_q = np.max(self.q_table[next_state])\n",
    "        \n",
    "        # Update Q-value using the Bellman equation: Q(s, a) = (1 - α) * Q(s, a) + α * (r + γ * max_a(Q(s', a')))\n",
    "        new_q = (1 - self.learning_rate) * current_q + self.learning_rate * (reward + self.discount_factor * next_max_q)\n",
    "        self.q_table[state + (action,)] = new_q"
   ]
  },
  {
   "cell_type": "markdown",
   "metadata": {},
   "source": [
    "The agent is trained on 5000 episodes, and the average reward every 1000 episodes is indicated to highlight the agent's progress."
   ]
  },
  {
   "cell_type": "code",
   "execution_count": 8,
   "metadata": {},
   "outputs": [
    {
     "name": "stdout",
     "output_type": "stream",
     "text": [
      "Mean reward for the first 1000 episodes: 27.41\n",
      "Mean reward for the first 2000 episodes: 145.418\n",
      "Mean reward for the first 3000 episodes: 276.275\n",
      "Mean reward for the first 4000 episodes: 362.104\n",
      "Mean reward for the first 5000 episodes: 360.995\n"
     ]
    }
   ],
   "source": [
    "Q_agent = QLearning(env)\n",
    "Q_agent.train_episodes(5000)"
   ]
  },
  {
   "cell_type": "markdown",
   "metadata": {},
   "source": [
    "Sampling a random state from the cart pole environment to the agent:"
   ]
  },
  {
   "cell_type": "code",
   "execution_count": 9,
   "metadata": {},
   "outputs": [
    {
     "name": "stdout",
     "output_type": "stream",
     "text": [
      "Observation: [-0.04033117  0.04851571  0.01377503  0.04022812]\n",
      "Chosen action: 1\n"
     ]
    }
   ],
   "source": [
    "state, _ = env.reset()\n",
    "action = Q_agent.run(state)\n",
    "print(\"Observation:\", state)\n",
    "print(\"Chosen action:\", action)"
   ]
  },
  {
   "cell_type": "markdown",
   "metadata": {},
   "source": [
    "## Task 2: Demonstrate the effectiveness of the RL agent"
   ]
  },
  {
   "cell_type": "markdown",
   "metadata": {},
   "source": [
    "### 2a. Performance of Monte-Carlo: Control agent"
   ]
  },
  {
   "cell_type": "code",
   "execution_count": 10,
   "metadata": {},
   "outputs": [
    {
     "data": {
      "image/png": "[encoded data removed]",
      "text/plain": [
       "<Figure size 640x480 with 1 Axes>"
      ]
     },
     "metadata": {},
     "output_type": "display_data"
    },
    {
     "name": "stdout",
     "output_type": "stream",
     "text": [
      "Average cumulative reward: 500.0\n",
      "Is my agent good enough? True\n"
     ]
    }
   ],
   "source": [
    "episode_results = Monte_Carlo_Agent.test_episodes(100)\n",
    "\n",
    "plt.plot(episode_results)\n",
    "plt.title(\"Cumulative reward for each episode\")\n",
    "plt.ylabel('Rewards')\n",
    "plt.xlabel('Episodes')\n",
    "plt.show()\n",
    "\n",
    "print(\"Average cumulative reward:\", np.mean(episode_results))\n",
    "print(\"Is my agent good enough?\", np.mean(episode_results) > 195)"
   ]
  },
  {
   "cell_type": "markdown",
   "metadata": {},
   "source": [
    "### 2b. Performance of Q-Learning agent"
   ]
  },
  {
   "cell_type": "code",
   "execution_count": 11,
   "metadata": {},
   "outputs": [
    {
     "data": {
      "image/png": "[encoded data removed]",
      "text/plain": [
       "<Figure size 640x480 with 1 Axes>"
      ]
     },
     "metadata": {},
     "output_type": "display_data"
    },
    {
     "name": "stdout",
     "output_type": "stream",
     "text": [
      "Average cumulative reward: 498.81\n",
      "Is my agent good enough? True\n"
     ]
    }
   ],
   "source": [
    "episode_results = Q_agent.test_episodes(100)\n",
    "\n",
    "plt.plot(episode_results)\n",
    "plt.title(\"Cumulative reward for each episode\")\n",
    "plt.ylabel('Rewards')\n",
    "plt.xlabel('Episodes')\n",
    "plt.show()\n",
    "\n",
    "print(\"Average cumulative reward:\", np.mean(episode_results))\n",
    "print(\"Is my agent good enough?\", np.mean(episode_results) > 195)"
   ]
  },
  {
   "cell_type": "markdown",
   "metadata": {},
   "source": [
    "It is noted although both agents perform equally well, the Q-Learning agent may be the more memory-efficient agent since unlike in Monte-Carlo, its bootstrapping strategy does not require it to keep track of the entire history of an episodee."
   ]
  },
  {
   "cell_type": "markdown",
   "metadata": {},
   "source": [
    "## Task 3: Render one episode played by the agent"
   ]
  },
  {
   "cell_type": "markdown",
   "metadata": {},
   "source": [
    "We will choose the Q-Learning agent for this task."
   ]
  },
  {
   "cell_type": "code",
   "execution_count": 12,
   "metadata": {},
   "outputs": [
    {
     "name": "stdout",
     "output_type": "stream",
     "text": [
      "MoviePy - Building video d:\\Files\\VS Code\\SC3000\\SC3000\\video\\rl-video-episode-0.mp4.\n",
      "MoviePy - Writing video d:\\Files\\VS Code\\SC3000\\SC3000\\video\\rl-video-episode-0.mp4\n",
      "\n"
     ]
    },
    {
     "name": "stderr",
     "output_type": "stream",
     "text": [
      "                                                                          \r"
     ]
    },
    {
     "name": "stdout",
     "output_type": "stream",
     "text": [
      "MoviePy - Done !\n",
      "MoviePy - video ready d:\\Files\\VS Code\\SC3000\\SC3000\\video\\rl-video-episode-0.mp4\n"
     ]
    },
    {
     "data": {
      "text/html": [
       "<video width=\"600\" controls><source src=\"data:video/mp4;base64,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\" type=\"video/mp4\"></video>"
      ],
      "text/plain": [
       "<IPython.core.display.HTML object>"
      ]
     },
     "metadata": {},
     "output_type": "display_data"
    }
   ],
   "source": [
    "def show_video():\n",
    "    mp4list = glob.glob('video/*.mp4')\n",
    "    if len(mp4list) > 0:\n",
    "        mp4 = mp4list[0]\n",
    "        video = io.open(mp4, 'rb').read()\n",
    "        encoded = base64.b64encode(video).decode('ascii')\n",
    "        display(HTML(f'<video width=\"600\" controls><source src=\"data:video/mp4;base64,{encoded}\" type=\"video/mp4\"></video>'))\n",
    "    else:\n",
    "        print(\"Could not find video\")\n",
    "\n",
    "def videoEpisode(agent):\n",
    "    env = RecordVideo(gym.make('CartPole-v1', render_mode='rgb_array'), \"./video\")\n",
    "    state, _ = env.reset()\n",
    "    done = False\n",
    "    while not done:\n",
    "        action = agent.run(state)\n",
    "        next_state, reward, done, _, _ = env.step(action)\n",
    "        state = next_state\n",
    "    env.close()\n",
    "    show_video()\n",
    "    return\n",
    "\n",
    "videoEpisode(Q_agent)"
   ]
  },
  {
   "cell_type": "markdown",
   "metadata": {},
   "source": [
    "## Task 4\n",
    "### Format the Jupyter notebook by including step-by-step instruction and explanation, such that the notebook is easy to follow and run (refer to the tutorial section in the sample notebook). Include text explanation to demonstrate the originality of your implementation and your understanding of the code. \n",
    "\n",
    "Done."
   ]
  }
 ],
 "metadata": {
  "kernelspec": {
   "display_name": "base",
   "language": "python",
   "name": "python3"
  },
  "language_info": {
   "codemirror_mode": {
    "name": "ipython",
    "version": 3
   },
   "file_extension": ".py",
   "mimetype": "text/x-python",
   "name": "python",
   "nbconvert_exporter": "python",
   "pygments_lexer": "ipython3",
   "version": "3.12.3"
  }
 },
 "nbformat": 4,
 "nbformat_minor": 2
}
