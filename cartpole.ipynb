{
  "cells": [
    {
      "cell_type": "markdown",
      "metadata": {},
      "source": [
        "# 24S2 SC3000/CZ3005 Assignment 1: Balancing a Pole on a Cart"
      ]
    },
    {
      "cell_type": "markdown",
      "metadata": {
        "jp-MarkdownHeadingCollapsed": true
      },
      "source": [
        "## Contributions\n",
        "\n",
        "| Name                    | Matriculation Number | Group | Contribution    |\n",
        "|-------------------------|----------------------|-------|-----------------|\n",
        "| Kent Karsten Pangestu   |                      | SCS4  | Task 1, 2, 3, 4 |\n",
        "| Lee Heng Sheng, Brandon | U2322900C            | SCSX  | Task 1, 2, 3, 4 |\n",
        "| Alan Lee Leman          | U2321753B            | SCSX  | Task 1, 2, 3, 4 |"
      ]
    },
    {
      "cell_type": "markdown",
      "metadata": {},
      "source": [
        "## Installing Dependencies\n",
        "\n",
        "You may find the list of dependencies in the requirements.txt file. We recommend activating a virtual environment before installing the required dependencies to prevent conflicting versions of dependencies (especially because we're using an older version of NumPy).\n",
        "\n",
        "### Conda (If required)\n",
        "\n",
        "**Note that because Python is not forward compatible, NumPy==1.26.4 does not support the latest Python version (3.13.X at this moment). If you have an older, compatible version of Python, you do not need to use Conda.** You may check your Python version by running `python --version`.\n",
        "\n",
        "However, if you encounter issues with installation of modules due to incompatible python versions, we recommend installing a package manager like [Conda](https://docs.conda.io/projects/conda/en/latest/user-guide/install/index.html) to create an environment with an older verison of Python. Ensure that Conda/Anaconda is added to your PATH variable. You may check this by running `conda --version`.\n",
        "\n",
        "\n",
        "1. Create an environment with an older Python version.\n",
        "\n",
        "```\n",
        "conda create -n myenv python=3.12.9\n",
        "conda activate myenv\n",
        "```\n",
        "\n",
        "You can also check that the Python version in the environment is correct by running `python --version`.\n",
        "\n",
        "2. Navigate to the directory with requirements.txt and install the required dependencies. You do not need to activate venv if you are already using Conda.\n",
        "\n",
        "```\n",
        "pip install -r requirements.txt\n",
        "```\n",
        "\n",
        "### Windows (Terminal)\n",
        "\n",
        "#### 1. Create a virtual environment.\n",
        "\n",
        "```\n",
        "python -m venv env\n",
        "```\n",
        "\n",
        "#### 2. Activate the virtual environment.\n",
        "\n",
        "```\n",
        ".\\env\\Scripts\\activate\n",
        "```\n",
        "\n",
        "Alternatively, if the above does not work,\n",
        "\n",
        "```\n",
        ".\\env\\Scripts\\activate.bat\n",
        "```\n",
        "\n",
        "If you encounter permission problems, you may need to run the following command to allow the script to run:\n",
        "\n",
        "```\n",
        "Set-ExecutionPolicy RemoteSigned -Scope CurrentUser\n",
        "```\n",
        "\n",
        "#### 3. Navigate to the directory with requirements.txt and install the required dependencies.\n",
        "\n",
        "```\n",
        "pip install -r requirements.txt\n",
        "```\n",
        "\n",
        "### Linux/MacOS\n",
        "\n",
        "#### 1. Create a virtual environment.\n",
        "\n",
        "```\n",
        "python -m venv env\n",
        "```\n",
        "\n",
        "#### 2. Activate the virtual environment.\n",
        "\n",
        "```\n",
        "source env/bin/activate\n",
        "```\n",
        "\n",
        "#### 3. Navigate to the directory with requirements.txt and install the required dependencies.\n",
        "\n",
        "```\n",
        "pip install -r requirements.txt\n",
        "```"
      ]
    },
    {
      "cell_type": "markdown",
      "metadata": {},
      "source": [
        "## Running Code\n",
        "\n",
        "If you are using JupyterLab, you need to launch the jupyterlab instance **within** the virtual environment for the code to run within the virtual environment. \n",
        "\n",
        "While your virtual environment is active, run\n",
        "\n",
        "```\n",
        "jupyter lab\n",
        "```\n",
        "\n",
        "If you are using Conda and already have the environment activated, you may directly run `jupyter lab`. "
      ]
    },
    {
      "cell_type": "markdown",
      "metadata": {},
      "source": [
        "## Importing Dependencies"
      ]
    },
    {
      "cell_type": "code",
      "execution_count": 1,
      "metadata": {},
      "outputs": [],
      "source": [
        "import gym\n",
        "import base64\n",
        "import glob\n",
        "import io\n",
        "from IPython import display as ipythondisplay\n",
        "from IPython.display import HTML\n",
        "from gym.wrappers import RecordVideo\n",
        "import base64\n",
        "from gym import logger as gymlogger\n",
        "from collections import defaultdict\n",
        "import numpy as np\n",
        "from matplotlib import pyplot as plt\n",
        "import warnings\n",
        "warnings.filterwarnings(\"ignore\")\n",
        "from abc import ABC, abstractmethod"
      ]
    },
    {
      "cell_type": "markdown",
      "metadata": {},
      "source": [
        "# CartPole Environment"
      ]
    },
    {
      "cell_type": "code",
      "execution_count": 2,
      "metadata": {},
      "outputs": [
        {
          "name": "stdout",
          "output_type": "stream",
          "text": [
            "Action Space: Discrete(2)\n",
            "Observation Space: Box([-4.8000002e+00 -3.4028235e+38 -4.1887903e-01 -3.4028235e+38], [4.8000002e+00 3.4028235e+38 4.1887903e-01 3.4028235e+38], (4,), float32)\n"
          ]
        }
      ],
      "source": [
        "env = gym.make(\"CartPole-v1\")\n",
        "\n",
        "print(f\"Action Space: {env.action_space}\")\n",
        "print(f\"Observation Space: {env.observation_space}\")"
      ]
    },
    {
      "cell_type": "markdown",
      "metadata": {},
      "source": [
        "### Action Space\n",
        "The action space takes discrete values of either **0** or **1**, pushing the cart to the left or right respectively.\n",
        "\n",
        "### Observation Space\n",
        "The observation space takes continuous values, summarised in the table below.\n",
        "\n",
        "<table style=\"width:70%; font-size: 14px; border: 1px solid black; border-collapse: collapse;\">\n",
        "  <tr>\n",
        "    <th>Num</th>\n",
        "    <th>Observation</th>\n",
        "    <th>Min</th>\n",
        "    <th>Max</th>\n",
        "  </tr>\n",
        "  <tr>\n",
        "    <td>0</td>\n",
        "    <td>Cart Position</td>\n",
        "    <td>-4.8</td>\n",
        "    <td>4.8</td>\n",
        "  </tr>\n",
        "  <tr>\n",
        "    <td>1</td>\n",
        "    <td>Cart Velocity</td>\n",
        "    <td>-Inf</td>\n",
        "    <td>Inf</td>\n",
        "  </tr>\n",
        "  <tr>\n",
        "    <td>2</td>\n",
        "    <td>Pole Angle</td>\n",
        "    <td>~ -0.418 rad (-24°)</td>\n",
        "    <td>~ 0.418 rad (24°)</td>\n",
        "  </tr>\n",
        "  <tr>\n",
        "    <td>3</td>\n",
        "    <td>Pole Angular Velocity</td>\n",
        "    <td>-Inf</td>\n",
        "    <td>Inf</td>\n",
        "  </tr>\n",
        "</table>\n",
        "\n",
        "### Reward\n",
        "Since the goal is to keep the pole upright for as long as possible, a reward of **+1** for every step taken, including the termination step, is allotted.\n",
        "\n",
        "\n",
        "### Starting State\n",
        "All observations are assigned a uniformly random value in (-0.05, 0.05).\n",
        "\n",
        "### Terminating Conditions\n",
        "An episode ends if any one of the following occurs:\n",
        "\n",
        "* Pole Angle is greater than ±12°\n",
        "\n",
        "* Cart Position is greater than ±2.4 (center of the cart reaches the edge of the display)\n",
        "\n",
        "* Episode length is greater than 500\n"
      ]
    },
    {
      "cell_type": "markdown",
      "metadata": {},
      "source": [
        "## Task 1:  Development of an RL Agent"
      ]
    },
    {
      "cell_type": "markdown",
      "metadata": {},
      "source": [
        "Since all 4 observed values in the observation space are continuous, we need to discretise them into bins. \n",
        "\n",
        "* `cart_position` is split into **4** bins with intervals of **2.5**\n",
        "* `cart_velocity` is split into **4** bins with intervals of **2.5** \n",
        "* `pole_angle` is split into **10** bins with intervals of **0.1** \n",
        "* `pole_angular_velocity` is split into **40** bins with intervals of **0.25**\n",
        "\n",
        "Through trial and error, we found that `pole_angular_velocity` is the most important factor in the learning growth, followed by `pole_angle`. Hence, they are set with relatively more bins to account for more precise changes."
      ]
    },
    {
      "cell_type": "markdown",
      "metadata": {},
      "source": [
        "We created a base class comprising of basic attributes and methods to describe what an agent should have and do."
      ]
    },
    {
      "cell_type": "code",
      "execution_count": 3,
      "metadata": {},
      "outputs": [],
      "source": [
        "class Agent(ABC):\n",
        "    def __init__(self, env, discount_factor = 0.99, epsilon = 1.0, epsilon_decay = 0.9995, epsilon_min = 0.07) -> None:\n",
        "        self.env = env\n",
        "        self.discount_factor = discount_factor # γ\n",
        "        self.epsilon = epsilon # ϵ\n",
        "        self.epsilon_decay = epsilon_decay \n",
        "        self.epsilon_min = epsilon_min \n",
        "        self.observation = [4, 4, 10, 40] # Number of bins set for each variable in an observation\n",
        "        self.window_size = np.array([2.5, 2.5, 0.1, 0.25]) # Size of each bin\n",
        "        self.q_table = np.random.uniform(low = 0, high = 1, size = (self.observation + [env.action_space.n])) \n",
        "    \n",
        "    def discretise_state(self, state) -> tuple:\n",
        "        \"\"\"\n",
        "        Converts a continuous state into its discrete values.\n",
        "\n",
        "        Returns a tuple of discrete values describing a state.\n",
        "        \"\"\"\n",
        "        discrete_state = state/self.window_size + np.array([2,2,5,20]) # Normalise the state values to prevent negative indexing \n",
        "        return tuple(discrete_state.astype(int)) # Truncate and convert to tuple to use as a key in the Q-table\n",
        "    \n",
        "    def decay_epsilon(self) -> None:\n",
        "        \"\"\"Decays the exploration factor (epsilon) after each episode.\"\"\"\n",
        "        self.epsilon = max(self.epsilon * self.epsilon_decay, self.epsilon_min)\n",
        "\n",
        "    def policy(self, state) -> int:\n",
        "        \"\"\"\n",
        "        Rule to determine which action to take at a particular state, with noise added to encourage exploration.\n",
        "        \n",
        "        Returns an action as either 0 or 1.\n",
        "        \"\"\"\n",
        "        if np.random.rand() < self.epsilon: # Probability of ϵ to explore\n",
        "            return self.env.action_space.sample()\n",
        "        else: # Probability of 1 - ϵ to exploit\n",
        "            return np.argmax(self.q_table[state]) \n",
        "\n",
        "    @abstractmethod\n",
        "    def generate_episode(self) -> int:\n",
        "        \"\"\"\n",
        "        Generates an episode and updates the Q-values by calling update_q_table.\n",
        "\n",
        "        (Algorithm dependent)\n",
        "\n",
        "        Returns the cumulative reward for one episode.\n",
        "        \"\"\"\n",
        "        pass\n",
        "\n",
        "    @abstractmethod\n",
        "    def update_q_table(self, episode) -> None:\n",
        "        \"\"\"Updates the Q-values in the Q-table attribute using an update rule.\n",
        "\n",
        "        (Algorithm dependent)\n",
        "\n",
        "        \"\"\"\n",
        "        pass\n",
        "\n",
        "    def train_episodes(self, num_episodes) -> None:\n",
        "        \"\"\"Runs the agent through multiple episodes to learn from the environment.\"\"\"\n",
        "        reward = 0 \n",
        "        for episode in range(1,num_episodes+2):\n",
        "            reward += self.generate_episode()\n",
        "            self.decay_epsilon() # Decay epsilon after each episode\n",
        "            if episode % 1000 == 0:\n",
        "                print(f\"Mean reward for the first {episode} episodes: {reward/1000}\")\n",
        "                reward = 0\n",
        "   \n",
        "    def run(self, raw_state) -> int:\n",
        "        \"\"\"\n",
        "        Determines the best possible action based on current Q-values.\n",
        "        \n",
        "        Returns an action of either 0 or 1.\n",
        "        \"\"\"\n",
        "        state = self.discretise_state(raw_state)\n",
        "        action = np.argmax(self.q_table[state])\n",
        "        return action\n",
        "    \n",
        "    def test_episodes(self, num_episodes) -> list:\n",
        "        \"\"\"\n",
        "        Tests the agent's performance based on current Q-values through multiple episodes.\n",
        "        \n",
        "        Returns a list of the cumulative rewards over num_episodes.\"\"\"\n",
        "        reward_list = []\n",
        "\n",
        "        for episode in range(num_episodes):\n",
        "            state, _ = self.env.reset()\n",
        "            done = False\n",
        "            cumulative_reward = 0\n",
        "\n",
        "            while not done:\n",
        "                action = self.run(state)\n",
        "                next_state, reward, done, _, _ = self.env.step(action)\n",
        "                cumulative_reward += reward\n",
        "                if cumulative_reward > 499:\n",
        "                    break\n",
        "                state = next_state\n",
        "                \n",
        "            reward_list.append(cumulative_reward)\n",
        "            \n",
        "        return reward_list\n",
        "    "
      ]
    },
    {
      "cell_type": "markdown",
      "metadata": {},
      "source": [
        "The Q-table of an agent is a 5-dimensional tensor, where\n",
        "\n",
        "1st dimension: cart position; `len(q_table)` == 4, storing the 4 possible discrete states of cart_position\n",
        "\n",
        "2nd dimension: cart velocity; `len(q_table[0])` == 4, storing the 4 possible discrete states of cart_velocity\n",
        "\n",
        "3rd dimension: pole angle; `len(q_table[0][0])` == 10, storing the 10 possible discrete states of pole_angle\n",
        "\n",
        "4rd dimension: pole angular velocity; `len(q_table[0][0][0])` == 40, storing the 40 possible discrete states of pole_angular_velocity\n",
        "\n",
        "5th dimension: action; `len(q_table[0][0][0][0])` == 2, storing either 0 or 1\n",
        "\n",
        "Each entry in the 5D tensor is initialised with arbitrary values from **0** to **1** using `np.random.uniform()`."
      ]
    },
    {
      "cell_type": "markdown",
      "metadata": {},
      "source": [
        "We determined that exploration is much more important than exploitation in this context due to the large state space. Hence, the hyperparameters are adjusted to accommodate exploration over exploitation in the beginning stages. More specifically,\n",
        "\n",
        "* `discount_factor γ` determines the importance of future rewards when evaluating the expected returns from a state-action pair. It is set at **0.99** to prioritise long-term rewards, encouraging the agent to learn strategies that optimise the overall return rather than focusing only on immediate rewards.\n",
        "\n",
        "* `epsilon ϵ` adds noise to allow the agent to explore other actions besides the current best-known action at a given state. It is set at **1** to encourage complete exploration early on when it has little knowledge of the environment, which is especially important in large state spaces.\n",
        "\n",
        "* `epsilon_decay` decreases ϵ over time. It is set at **0.9995** to gradually transition to exploitation over exploration as the agent gains more knowledge and becomes more confident in its decisions.\n",
        "\n",
        "* `epsilon_min` sets a minimum threshold allowed for ϵ. It is set at **0.07** to ensure that the agent keeps exploring even at the later stages, preventing overly greedy actions that only satisfies a local optima.\n"
      ]
    },
    {
      "cell_type": "markdown",
      "metadata": {},
      "source": [
        "### 1a. Monte-Carlo Control\n",
        "\n",
        "We implemented the Monte-Carlo Control algorithm as outlined below.\n",
        "\n",
        "![alt text](mc_algorithm.png)"
      ]
    },
    {
      "cell_type": "code",
      "execution_count": 4,
      "metadata": {},
      "outputs": [],
      "source": [
        "class Monte_Carlo(Agent):\n",
        "    def __init__(self, env) -> None:\n",
        "        super().__init__(env)\n",
        "        self.returns = defaultdict(int)\n",
        "        self.visits = defaultdict(int)\n",
        "\n",
        "    def generate_episode(self) -> int:\n",
        "        episode = []\n",
        "        state, _ = self.env.reset() # Environment is reset at the beginning of each episode\n",
        "        state = self.discretise_state(state)\n",
        "        done = False\n",
        "        cumulative_reward = 0\n",
        "        \n",
        "        while not done:\n",
        "            action = self.policy(state) \n",
        "            next_state, reward, done, _, _ = self.env.step(action)\n",
        "            episode.append((state, action, reward)) # The entire trajectory of an episode is stored in an array\n",
        "            state = self.discretise_state(next_state)\n",
        "            cumulative_reward += reward\n",
        "\n",
        "            if cumulative_reward > 499:\n",
        "                break\n",
        "\n",
        "        self.update_q_table(episode) # Q-table is updated per episode\n",
        "\n",
        "        return cumulative_reward\n",
        "    \n",
        "    def update_q_table(self, episode) -> None:\n",
        "        G = 0\n",
        "        state_action_visited = defaultdict(int)\n",
        "\n",
        "        # Iterate trough a trajectory backwards \n",
        "        for i in reversed(range(len(episode))):\n",
        "            state, action, reward = episode[i]\n",
        "            G = reward + self.discount_factor * G # Calculate G using G(t) = r(t) + γ * G(t+1)\n",
        "            state_action_visited[(state, action)] = G # Computes returns using first-visit MC method\n",
        "\n",
        "            for (state, action), val in state_action_visited.items():\n",
        "                self.returns[(state, action)] += val # val is the value of G for a given state-action pair\n",
        "                self.visits[(state, action)] += 1\n",
        "                self.q_table[state + (action,)] = self.returns[(state, action)] / self.visits[(state, action)] # Update Q table for each state-action pair"
      ]
    },
    {
      "cell_type": "markdown",
      "metadata": {},
      "source": [
        "In Monte-Carlo, the entire trajectory of an episode is stored, and the Q-table is updated according to the trajectory after an episode is finished. A first-visit method is used to ensure a state-action pair is only updated once per episode. \n",
        "\n",
        "G is calculated using\n",
        "$$G_t = R_t + \\gamma R_{t+1}  + γ^2R_{t+2} + ... + \\gamma ^nR_{t+n} = R_t + \\gamma G_{t+1}$$ \n",
        "\n",
        "and Q(s,a) is updated using \n",
        "$$Q(state,action) = \\frac{Total Returns}{Total Count}$$"
      ]
    },
    {
      "cell_type": "markdown",
      "metadata": {},
      "source": [
        "The agent is then trained on 5000 episodes, and the average reward every 1000 episodes is indicated to highlight the agent's progress."
      ]
    },
    {
      "cell_type": "code",
      "execution_count": 5,
      "metadata": {},
      "outputs": [
        {
          "name": "stdout",
          "output_type": "stream",
          "text": [
            "Mean reward for the first 1000 episodes: 43.276\n",
            "Mean reward for the first 2000 episodes: 206.224\n",
            "Mean reward for the first 3000 episodes: 415.735\n",
            "Mean reward for the first 4000 episodes: 485.823\n",
            "Mean reward for the first 5000 episodes: 498.047\n"
          ]
        }
      ],
      "source": [
        "Monte_Carlo_Agent = Monte_Carlo(env)\n",
        "Monte_Carlo_Agent.train_episodes(5000)"
      ]
    },
    {
      "cell_type": "markdown",
      "metadata": {},
      "source": [
        "Sampling a random state from the cart pole environment to the agent:"
      ]
    },
    {
      "cell_type": "code",
      "execution_count": 6,
      "metadata": {},
      "outputs": [
        {
          "name": "stdout",
          "output_type": "stream",
          "text": [
            "Observation: [ 0.02218256 -0.00248459 -0.01519187 -0.009676  ]\n",
            "Chosen action: 0\n"
          ]
        }
      ],
      "source": [
        "state, _ = env.reset()\n",
        "action = Monte_Carlo_Agent.run(state)\n",
        "print(\"Observation:\", state)\n",
        "print(\"Chosen action:\", action)"
      ]
    },
    {
      "cell_type": "markdown",
      "metadata": {},
      "source": [
        "### 1b. Q-Learning\n",
        "\n",
        "We also implemented the Q-Learning algorithm as outlined below.\n",
        "\n",
        "<img src=\"q_learning_algorithm.png\" width=\"800\" height=\"340\">"
      ]
    },
    {
      "cell_type": "markdown",
      "metadata": {},
      "source": [
        "We added an extra hyperparameter `learning_rate α`, which is needed in a Q-Learning algorithm.\n",
        "\n",
        "* `learning_rate α` controls how much the Q-values are updated in each step of an episode. It is set low at **0.1** to allow for more stability during the training process by ensuring that the agent learns more gradually.\n"
      ]
    },
    {
      "cell_type": "code",
      "execution_count": 7,
      "metadata": {},
      "outputs": [],
      "source": [
        "class QLearning(Agent):\n",
        "    def __init__(self, env, learning_rate=0.1):\n",
        "        super().__init__(env)\n",
        "        self.learning_rate = learning_rate # α\n",
        "        \n",
        "    def generate_episode(self) -> int:\n",
        "        state, _ = self.env.reset() # Environment is reset at the beginning of each episode\n",
        "        state = self.discretise_state(state)\n",
        "        done = False\n",
        "        cumulative_reward = 0\n",
        "\n",
        "        while not done:\n",
        "            action = self.policy(state)\n",
        "            next_state, reward, done, _, _ = self.env.step(action)\n",
        "            next_state = self.discretise_state(next_state)\n",
        "            cumulative_reward += reward\n",
        "\n",
        "            if cumulative_reward > 499:\n",
        "                break\n",
        "            \n",
        "            self.update_q_table(state, next_state, action, reward) # Q-table is updated per action taken\n",
        "            state = next_state\n",
        "\n",
        "        return cumulative_reward\n",
        "\n",
        "    def update_q_table(self, state, next_state, action, reward) -> None:\n",
        "        current_q = self.q_table[state + (action,)]\n",
        "        next_max_q = np.max(self.q_table[next_state])\n",
        "        \n",
        "        # Update Q-value using the Bellman equation: Q(s, a) = (1 - α) * Q(s, a) + α * (r + γ * max_a(Q(s', a')))\n",
        "        new_q = (1 - self.learning_rate) * current_q + self.learning_rate * (reward + self.discount_factor * next_max_q)\n",
        "        self.q_table[state + (action,)] = new_q"
      ]
    },
    {
      "cell_type": "markdown",
      "metadata": {},
      "source": [
        "In Q-Learning, the Q-table is updated for each action taken between states according to \n",
        "\n",
        "$$\n",
        "Q_{\\text{new}}(s_t, a_t) = (1-\\alpha) Q_{\\text{old}}(s_t,a_t) + \\alpha (Reward_{t+1} + \\gamma \\max_a Q_{\\text{old}}(s_{t+1},a))\n",
        "$$\n",
        "\n",
        "Thus, there is no need to store the trajectory of an episode."
      ]
    },
    {
      "cell_type": "markdown",
      "metadata": {},
      "source": [
        "The agent is then trained on 5000 episodes, and the average reward every 1000 episodes is indicated to highlight the agent's progress."
      ]
    },
    {
      "cell_type": "code",
      "execution_count": 8,
      "metadata": {},
      "outputs": [
        {
          "name": "stdout",
          "output_type": "stream",
          "text": [
            "Mean reward for the first 1000 episodes: 29.786\n",
            "Mean reward for the first 2000 episodes: 162.84\n",
            "Mean reward for the first 3000 episodes: 311.885\n",
            "Mean reward for the first 4000 episodes: 408.765\n",
            "Mean reward for the first 5000 episodes: 453.574\n"
          ]
        }
      ],
      "source": [
        "Q_agent = QLearning(env)\n",
        "Q_agent.train_episodes(5000)"
      ]
    },
    {
      "cell_type": "markdown",
      "metadata": {},
      "source": [
        "Sampling a random state from the cart pole environment to the agent:"
      ]
    },
    {
      "cell_type": "code",
      "execution_count": 9,
      "metadata": {},
      "outputs": [
        {
          "name": "stdout",
          "output_type": "stream",
          "text": [
            "Observation: [0.00947912 0.03626118 0.02548729 0.01538281]\n",
            "Chosen action: 1\n"
          ]
        }
      ],
      "source": [
        "state, _ = env.reset()\n",
        "action = Q_agent.run(state)\n",
        "print(\"Observation:\", state)\n",
        "print(\"Chosen action:\", action)"
      ]
    },
    {
      "cell_type": "markdown",
      "metadata": {},
      "source": [
        "### Note\n",
        "\n",
        "We noted that the performance of an RL agent may vary in different training environments.\n",
        "\n",
        "This is because an agent may develop a bias towards a suboptimal strategy where it continuously moves in one direction to keep the pole balanced. While this strategy successfully prevents the pole from falling, it can lead to early termination of an episode when the cart exceeds the allowed position limits of ± 2.4. Since the reward function incentivises pole balance without explicitly discouraging excessive lateral movement, the agent may not learn to keep the cart centred and consequently may drift away to the boundary. This results in mean rewards that converges more slowly to 500 since episodes end prematurely despite the pole remaining upright.\n",
        "\n",
        "In such a scenario, more number of episodes may be needed to converge to an optimal policy. However, for our case, we think that 5000 episodes are good enough to train an agent for this task."
      ]
    },
    {
      "cell_type": "markdown",
      "metadata": {},
      "source": [
        "## Task 2: Demonstrate the effectiveness of the RL agent"
      ]
    },
    {
      "cell_type": "markdown",
      "metadata": {},
      "source": [
        "### 2a. Performance of Monte-Carlo Control agent"
      ]
    },
    {
      "cell_type": "code",
      "execution_count": 10,
      "metadata": {},
      "outputs": [
        {
          "data": {
            "image/png": "[encoded data removed]",
            "text/plain": [
              "<Figure size 640x480 with 1 Axes>"
            ]
          },
          "metadata": {},
          "output_type": "display_data"
        },
        {
          "name": "stdout",
          "output_type": "stream",
          "text": [
            "Average cumulative reward: 500.0\n",
            "Is my agent good enough? True\n"
          ]
        }
      ],
      "source": [
        "episode_results = Monte_Carlo_Agent.test_episodes(100)\n",
        "\n",
        "plt.plot(episode_results)\n",
        "plt.title(\"Cumulative reward for each episode\")\n",
        "plt.ylabel('Rewards')\n",
        "plt.xlabel('Episodes')\n",
        "plt.show()\n",
        "\n",
        "print(\"Average cumulative reward:\", np.mean(episode_results))\n",
        "print(\"Is my agent good enough?\", np.mean(episode_results) > 195)"
      ]
    },
    {
      "cell_type": "markdown",
      "metadata": {},
      "source": [
        "### 2b. Performance of Q-Learning agent"
      ]
    },
    {
      "cell_type": "code",
      "execution_count": 11,
      "metadata": {},
      "outputs": [
        {
          "data": {
            "image/png": "[encoded data removed]",
            "text/plain": [
              "<Figure size 640x480 with 1 Axes>"
            ]
          },
          "metadata": {},
          "output_type": "display_data"
        },
        {
          "name": "stdout",
          "output_type": "stream",
          "text": [
            "Average cumulative reward: 500.0\n",
            "Is my agent good enough? True\n"
          ]
        }
      ],
      "source": [
        "episode_results = Q_agent.test_episodes(100)\n",
        "\n",
        "plt.plot(episode_results)\n",
        "plt.title(\"Cumulative reward for each episode\")\n",
        "plt.ylabel('Rewards')\n",
        "plt.xlabel('Episodes')\n",
        "plt.show()\n",
        "\n",
        "print(\"Average cumulative reward:\", np.mean(episode_results))\n",
        "print(\"Is my agent good enough?\", np.mean(episode_results) > 195)"
      ]
    },
    {
      "cell_type": "markdown",
      "metadata": {},
      "source": [
        "Although both agents are able to practically solve the game within 5000 episodes, the Q-Learning agent may be the more memory-efficient agent since unlike in Monte-Carlo, its bootstrapping strategy does not require it to keep track of the entire history of an episode."
      ]
    },
    {
      "cell_type": "markdown",
      "metadata": {},
      "source": [
        "## Task 3: Render one episode played by the agent"
      ]
    },
    {
      "cell_type": "markdown",
      "metadata": {},
      "source": [
        "We will choose the Monte Carlo agent for this task."
      ]
    },
    {
      "cell_type": "code",
      "execution_count": 15,
      "metadata": {},
      "outputs": [
        {
          "name": "stdout",
          "output_type": "stream",
          "text": [
            "MoviePy - Building video C:\\Users\\brand\\Documents\\Notes\\SC3000\\SC3000\\video\\rl-video-episode-0.mp4.\n",
            "MoviePy - Writing video C:\\Users\\brand\\Documents\\Notes\\SC3000\\SC3000\\video\\rl-video-episode-0.mp4\n",
            "\n"
          ]
        },
        {
          "name": "stderr",
          "output_type": "stream",
          "text": [
            "                                                                                                                       "
          ]
        },
        {
          "name": "stdout",
          "output_type": "stream",
          "text": [
            "MoviePy - Done !\n",
            "MoviePy - video ready C:\\Users\\brand\\Documents\\Notes\\SC3000\\SC3000\\video\\rl-video-episode-0.mp4\n"
          ]
        },
        {
          "data": {
            "text/html": [
              "<video width=\"600\" controls><source src=\"data:video/mp4;base64,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\" type=\"video/mp4\"></video>"
            ],
            "text/plain": [
              "<IPython.core.display.HTML object>"
            ]
          },
          "metadata": {},
          "output_type": "display_data"
        }
      ],
      "source": [
        "def show_video():\n",
        "    mp4list = glob.glob('video/*.mp4')\n",
        "    if len(mp4list) > 0:\n",
        "        mp4 = mp4list[0]\n",
        "        video = io.open(mp4, 'rb').read()\n",
        "        encoded = base64.b64encode(video).decode('ascii')\n",
        "        display(HTML(f'<video width=\"600\" controls><source src=\"data:video/mp4;base64,{encoded}\" type=\"video/mp4\"></video>'))\n",
        "    else:\n",
        "        print(\"Could not find video\")\n",
        "\n",
        "def videoEpisode(agent):\n",
        "    env = RecordVideo(gym.make('CartPole-v1', render_mode='rgb_array'), \"./video\")\n",
        "    state, _ = env.reset()\n",
        "    done = False\n",
        "    while not done:\n",
        "        action = agent.run(state)\n",
        "        next_state, reward, done, _, _ = env.step(action)\n",
        "        state = next_state\n",
        "    env.close()\n",
        "    show_video()\n",
        "    return\n",
        "\n",
        "videoEpisode(Monte_Carlo_Agent)"
      ]
    },
    {
      "cell_type": "markdown",
      "metadata": {},
      "source": [
        "## Task 4\n",
        "### Format the Jupyter notebook by including step-by-step instruction and explanation, such that the notebook is easy to follow and run (refer to the tutorial section in the sample notebook). Include text explanation to demonstrate the originality of your implementation and your understanding of the code. \n",
        "\n",
        "Done."
      ]
    }
  ],
  "metadata": {
    "kernelspec": {
      "display_name": "Python 3 (ipykernel)",
      "language": "python",
      "name": "python3"
    },
    "language_info": {
      "codemirror_mode": {
        "name": "ipython",
        "version": 3
      },
      "file_extension": ".py",
      "mimetype": "text/x-python",
      "name": "python",
      "nbconvert_exporter": "python",
      "pygments_lexer": "ipython3",
      "version": "3.12.9"
    }
  },
  "nbformat": 4,
  "nbformat_minor": 4
}
