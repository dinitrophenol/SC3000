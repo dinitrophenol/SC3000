{
 "cells": [
  {
   "cell_type": "markdown",
   "metadata": {},
   "source": [
    "### Contributions\n",
    "Kent Karsten Pangestu\n",
    "* Task 1,2,3,4"
   ]
  },
  {
   "cell_type": "code",
   "execution_count": 11,
   "metadata": {},
   "outputs": [],
   "source": [
    "import gym\n",
    "import base64\n",
    "import glob\n",
    "import io\n",
    "from IPython import display as ipythondisplay\n",
    "from IPython.display import HTML\n",
    "from gym.wrappers import RecordVideo\n",
    "import base64\n",
    "from gym import logger as gymlogger\n",
    "from collections import defaultdict\n",
    "import numpy as np\n",
    "from matplotlib import pyplot as plt\n",
    "import warnings\n",
    "warnings.filterwarnings(\"ignore\")"
   ]
  },
  {
   "cell_type": "markdown",
   "metadata": {},
   "source": [
    "# CartPole Environment"
   ]
  },
  {
   "cell_type": "code",
   "execution_count": 12,
   "metadata": {},
   "outputs": [
    {
     "name": "stdout",
     "output_type": "stream",
     "text": [
      "Action Space: Discrete(2)\n",
      "Observation Space: Box([-4.8000002e+00 -3.4028235e+38 -4.1887903e-01 -3.4028235e+38], [4.8000002e+00 3.4028235e+38 4.1887903e-01 3.4028235e+38], (4,), float32)\n"
     ]
    }
   ],
   "source": [
    "env = gym.make(\"CartPole-v1\")\n",
    "\n",
    "print(f\"Action Space: {env.action_space}\")\n",
    "print(f\"Observation Space: {env.observation_space}\")"
   ]
  },
  {
   "cell_type": "markdown",
   "metadata": {},
   "source": [
    "### Action Space\n",
    "The action space takes discrete values of either **0** or **1**, pushing the cart to the left or right respectively.\n",
    "\n",
    "### Observation Space\n",
    "The observation space takes continuous values, summarised in the table below.\n",
    "\n",
    "<table style=\"width:70%; font-size: 14px; border: 1px solid black; border-collapse: collapse;\">\n",
    "  <tr>\n",
    "    <th>Num</th>\n",
    "    <th>Observation</th>\n",
    "    <th>Min</th>\n",
    "    <th>Max</th>\n",
    "  </tr>\n",
    "  <tr>\n",
    "    <td>0</td>\n",
    "    <td>Cart Position</td>\n",
    "    <td>-4.8</td>\n",
    "    <td>4.8</td>\n",
    "  </tr>\n",
    "  <tr>\n",
    "    <td>1</td>\n",
    "    <td>Cart Velocity</td>\n",
    "    <td>-Inf</td>\n",
    "    <td>Inf</td>\n",
    "  </tr>\n",
    "  <tr>\n",
    "    <td>2</td>\n",
    "    <td>Pole Angle</td>\n",
    "    <td>~ -0.418 rad (-24°)</td>\n",
    "    <td>~ 0.418 rad (24°)</td>\n",
    "  </tr>\n",
    "  <tr>\n",
    "    <td>3</td>\n",
    "    <td>Pole Angular Velocity</td>\n",
    "    <td>-Inf</td>\n",
    "    <td>Inf</td>\n",
    "  </tr>\n",
    "</table>\n",
    "\n",
    "### Reward\n",
    "Since the goal is to keep the pole upright for as long as possible, a reward of **+1** for every step taken, including the termination step, is allotted.\n",
    "\n",
    "\n",
    "### Starting State\n",
    "All observations are assigned a uniformly random value in (-0.05, 0.05).\n",
    "\n",
    "### Terminating Conditions\n",
    "An episode ends if any one of the following occurs:\n",
    "\n",
    "* Pole Angle is greater than ±12°\n",
    "\n",
    "* Cart Position is greater than ±2.4 (center of the cart reaches the edge of the display)\n",
    "\n",
    "* Episode length is greater than 500\n"
   ]
  },
  {
   "cell_type": "markdown",
   "metadata": {},
   "source": [
    "### Task 1:  Development of an RL Agent"
   ]
  },
  {
   "cell_type": "markdown",
   "metadata": {},
   "source": [
    "We implemented the Monte-Carlo: Control algorithm as outlined below.\n",
    "\n",
    "![alt text](mc_algorithm.png)"
   ]
  },
  {
   "cell_type": "markdown",
   "metadata": {},
   "source": [
    "Since all 4 observed values in the observation space are continuous, we need to discretise them into bins. \n",
    "\n",
    "* `cart_position` is split into **4** bins with intervals of **2.5**\n",
    "* `cart_velocity` is split into **4** bins with intervals of **2.5** \n",
    "* `pole_angle` is split into **10** bins with intervals of **0.1** \n",
    "* `pole_angular_velocity` is split into **40** bins with intervals of **0.25**\n",
    "\n",
    "Through trial-and error, we found that `pole_angular_velocity` is the most important factor in the learning growth, followed by `pole_angle`. Hence, they are set with relatively more bins to account for more precise changes."
   ]
  },
  {
   "cell_type": "code",
   "execution_count": 13,
   "metadata": {},
   "outputs": [],
   "source": [
    "cart_position_bins = np.linspace(-4.8, 4.8, 4)\n",
    "cart_velocity_bins = np.linspace(-5, 5, 4)\n",
    "pole_angle_bins = np.linspace(-0.5, 0.5, 10)\n",
    "pole_angular_velocity_bins = np.linspace(-5, 5, 40)"
   ]
  },
  {
   "cell_type": "markdown",
   "metadata": {},
   "source": [
    "We determined that exploration is much more important than exploitation in this context due to the large state space. Hence, the hyperparameters are adjusted to accommodate exploration over exploitation in the beginning stages. More specifically,\n",
    "\n",
    "* `discount_factor γ` determines the importance of future rewards when evaluating the expected returns from a state-action pair. It is set at **0.99** to prioritise long-term rewards, encouraging the agent to learn strategies that optimise the overall return rather than focusing only on immediate rewards.\n",
    "\n",
    "* `epsilon ϵ` adds noise to allow the agent to explore other actions besides the current best-known action at a given state. It is set at **1** to encourage complete exploration early on when it has little knowledge of the environment, which is especially important in large state spaces.\n",
    "\n",
    "* `epsilon_decay` decreases ϵ over time. It is set at **0.9995** to gradually transition to exploitation over exploration as the agent gains more knowledge and becomes more confident in its decisions.\n",
    "\n",
    "* `epsilon_min` sets a minimum threshold allowed for ϵ. It is set at **0.07** to ensure that the agent keeps exploring even at the later stages, preventing overly greedy actions that only satisfies a local optima.\n"
   ]
  },
  {
   "cell_type": "code",
   "execution_count": 14,
   "metadata": {},
   "outputs": [],
   "source": [
    "class Monte_Carlo():\n",
    "    def __init__(self, env, discount_factor = 0.99, epsilon = 1.0, epsilon_decay = 0.9995, epsilon_min = 0.07) -> None:\n",
    "        self.env = env\n",
    "        self.q_table = defaultdict(int)\n",
    "        self.returns = defaultdict(int)\n",
    "        self.visits = defaultdict(int)\n",
    "        self.discount_factor = discount_factor # γ\n",
    "        self.epsilon = epsilon # ϵ\n",
    "        self.epsilon_decay = epsilon_decay \n",
    "        self.epsilon_min = epsilon_min \n",
    "    \n",
    "    def discretise_state(self, state: np.ndarray) -> tuple:\n",
    "        \"\"\"Puts the state values into the respective discrete bins.\"\"\"\n",
    "        cart_position, cart_velocity, pole_angle, pole_angular_velocity = state\n",
    "        \n",
    "        cart_position = np.digitize(cart_position, cart_position_bins) - 1\n",
    "        cart_velocity = np.digitize(cart_velocity, cart_velocity_bins) - 1\n",
    "        pole_angle = np.digitize(pole_angle, pole_angle_bins) - 1\n",
    "        pole_angular_velocity = np.digitize(pole_angular_velocity, pole_angular_velocity_bins) - 1\n",
    "        return (cart_position, cart_velocity, pole_angle, pole_angular_velocity)\n",
    "    \n",
    "    def decay_epsilon(self) -> None:\n",
    "        \"\"\"Decays epsilon after each episode.\"\"\"\n",
    "        self.epsilon = max(self.epsilon * self.epsilon_decay, self.epsilon_min)\n",
    "\n",
    "    def policy(self, state) -> int:\n",
    "        \"\"\"Rule to determine which action to take at a particular state.\"\"\"\n",
    "        if np.random.rand() < self.epsilon: # Noise added\n",
    "            return self.env.action_space.sample()\n",
    "        else:\n",
    "            return max(range(self.env.action_space.n), key=lambda a: self.q_table.get((state, a), np.random.uniform(low=0, high=1)))\n",
    "\n",
    "    def generate_episode(self) -> tuple:\n",
    "        \"\"\"Generates one round of play.\"\"\"\n",
    "        episode = []\n",
    "        state, _ = self.env.reset() # Environment is reset at the beginning of each episode\n",
    "        state = self.discretise_state(state)\n",
    "        done = False\n",
    "        cumulative_reward = 0\n",
    "        while not done:\n",
    "            action = self.policy(state)\n",
    "            next_state, reward, done, _, _ = self.env.step(action)\n",
    "            episode.append((state, action, reward))\n",
    "            state = self.discretise_state(next_state)\n",
    "            cumulative_reward += reward\n",
    "            if cumulative_reward > 499:\n",
    "                break\n",
    "        return (episode, cumulative_reward)\n",
    "    \n",
    "    def update_q_table(self, episode) -> None:\n",
    "        \"\"\"Computes returns using first-visit MC method.\"\"\"\n",
    "        G = 0\n",
    "        state_action_visited = defaultdict(int)\n",
    "\n",
    "        # Iterate backwards according to G(t) = r(t) + y * G(t+1)\n",
    "        for i in reversed(range(len(episode))):\n",
    "            state, action, reward = episode[i]\n",
    "            G = reward + self.discount_factor * G\n",
    "            state_action_visited[(state, action)] = G\n",
    "\n",
    "            for key, val in state_action_visited.items():\n",
    "                # Update Q table for each state-action pair\n",
    "                self.returns[key] += val\n",
    "                self.visits[key] += 1\n",
    "                self.q_table[key] = self.returns[key] / self.visits[key]\n",
    "    \n",
    "    def train_episodes(self, num_episodes) -> None:\n",
    "        reward = 0 \n",
    "        for i in range(1,num_episodes+2):\n",
    "            episode , cumulative_reward = self.generate_episode()\n",
    "            self.update_q_table(episode)\n",
    "            reward += cumulative_reward\n",
    "            self.decay_epsilon()   \n",
    "            if i % 1000 == 0:\n",
    "                print(f\"Mean reward for the first {i} episodes: {reward/1000}\")\n",
    "                reward = 0\n",
    "        \n",
    "    def run(self, raw_state) -> int:\n",
    "        \"\"\"Determines the optimal action to take based on current knowledge.\"\"\"\n",
    "        state = self.discretise_state(raw_state)\n",
    "        return max(range(self.env.action_space.n), key=lambda a: self.q_table.get(state, a))\n",
    "    \n",
    "    def test_episodes(self, num_episodes) -> list:\n",
    "        reward_list = []\n",
    "\n",
    "        for episode in range(num_episodes):\n",
    "            state, _ = self.env.reset()\n",
    "            done = False\n",
    "            cumulative_reward = 0\n",
    "\n",
    "            while not done:\n",
    "                action = self.run(state)\n",
    "                next_state, reward, done, _, _ = self.env.step(action)\n",
    "                cumulative_reward += reward\n",
    "                if cumulative_reward > 499:\n",
    "                    break\n",
    "                state = next_state\n",
    "                \n",
    "            reward_list.append(cumulative_reward)\n",
    "            \n",
    "        return reward_list"
   ]
  },
  {
   "cell_type": "markdown",
   "metadata": {},
   "source": [
    "The agent is trained on 6000 episodes, and the average reward every 1000 episodes is indicated to highlight the agent's progress."
   ]
  },
  {
   "cell_type": "code",
   "execution_count": 15,
   "metadata": {},
   "outputs": [
    {
     "name": "stdout",
     "output_type": "stream",
     "text": [
      "Mean reward for the first 1000 episodes: 46.131\n",
      "Mean reward for the first 2000 episodes: 142.257\n",
      "Mean reward for the first 3000 episodes: 199.851\n",
      "Mean reward for the first 4000 episodes: 195.692\n",
      "Mean reward for the first 5000 episodes: 190.172\n",
      "Mean reward for the first 6000 episodes: 189.354\n"
     ]
    }
   ],
   "source": [
    "Monte_Carlo_Agent = Monte_Carlo(env)\n",
    "Monte_Carlo_Agent.train_episodes(6000)"
   ]
  },
  {
   "cell_type": "markdown",
   "metadata": {},
   "source": [
    "We also implemented the Q-Learning algorithm as outlined below. We found that Q-Learning is a much more effective algorithm, given the same hyperparameters. \n",
    "\n",
    "<img src=\"q_learning_algorithm.png\" width=\"800\" height=\"340\">"
   ]
  },
  {
   "cell_type": "markdown",
   "metadata": {},
   "source": [
    "We explored the algorithm given the same number of bins for each variable, the same values for `discount_factor γ` at 0.99, `epsilon ϵ` at 1, `epsilon_decay` at 0.995, and `epsilon_min` at 0.07 as with the previous algorithm. In addition, we added `learning_rate α`, which is needed in a Q-Learning algorithm.\n",
    "\n",
    "* `learning_rate α` controls how much the Q-values are updated in each step of an episode. It is set low at **0.1** to allow for more stability during the training process by ensuring that the agent learns more gradually.\n"
   ]
  },
  {
   "cell_type": "code",
   "execution_count": 21,
   "metadata": {},
   "outputs": [],
   "source": [
    "class QLearning:\n",
    "    def __init__(self, env, learning_rate=0.1, discount_factor=0.99,\n",
    "                 epsilon=1.0, epsilon_decay=0.9995, epsilon_min=0.07):\n",
    "        self.env = env\n",
    "        self.learning_rate = learning_rate\n",
    "        self.discount_factor = discount_factor\n",
    "        self.epsilon = epsilon\n",
    "        self.epsilon_decay = epsilon_decay\n",
    "        self.epsilon_min = epsilon_min\n",
    "        self.observation = [4, 4, 10, 40] # Number of bins set for each variable in an observation\n",
    "        self.window_size = np.array([2.5, 2.5, 0.1, 0.25]) # Size of each bin\n",
    "        self.q_table = np.random.uniform(low=0, high=1, size=(self.observation + [env.action_space.n])) # Q-table initialised with arbitrary values\n",
    "\n",
    "    def discretise_state(self, state):\n",
    "        discrete_state = state/self.window_size + np.array([2,2,5,20]) # Normalise the state values to ensure they are within bounds of the bin \n",
    "        return tuple(discrete_state.astype(int)) # Truncate and convert to tuple to use as a key in the Q-table\n",
    "\n",
    "    def decay_epsilon(self):\n",
    "        self.epsilon = max(self.epsilon_min, self.epsilon * self.epsilon_decay)\n",
    "\n",
    "    def policy(self, state):\n",
    "        if np.random.random() < self.epsilon: # Noise added\n",
    "            return self.env.action_space.sample()\n",
    "        else:\n",
    "            return np.argmax(self.q_table[state]) \n",
    "        \n",
    "    def generate_episode(self):\n",
    "        state, _ = self.env.reset()\n",
    "        state = self.discretise_state(state)\n",
    "        done = False\n",
    "        cumulative_reward = 0\n",
    "\n",
    "        while not done:\n",
    "            action = self.policy(state)\n",
    "            next_state, reward, done, _, _ = self.env.step(action)\n",
    "            next_state = self.discretise_state(next_state)\n",
    "            cumulative_reward += reward\n",
    "\n",
    "            if cumulative_reward > 499:\n",
    "                break\n",
    "            \n",
    "            self.update_q_table(state, next_state, action, reward)\n",
    "            state = next_state\n",
    "\n",
    "\n",
    "        return cumulative_reward\n",
    "\n",
    "    def update_q_table(self, state, next_state, action, reward):\n",
    "        current_q = self.q_table[state + (action,)]\n",
    "        next_max_q = np.max(self.q_table[next_state])\n",
    "        \n",
    "        # Update Q-value using the Bellman equation: Q(s, a) = (1 - α) * Q(s, a) + α * (r + γ * max_a(Q(s', a')))\n",
    "        new_q = (1 - self.learning_rate) * current_q + self.learning_rate * (reward + self.discount_factor * next_max_q)\n",
    "        self.q_table[state + (action,)] = new_q\n",
    "\n",
    "    def train_episodes(self, num_episodes):\n",
    "        reward = 0 \n",
    "        for episode in range(1,num_episodes+2):\n",
    "            reward += self.generate_episode()\n",
    "            self.decay_epsilon()   \n",
    "            if episode % 1000 == 0:\n",
    "                print(f\"Mean reward for the first {episode} episodes: {reward/1000}\")\n",
    "                reward = 0\n",
    "        \n",
    "        return reward\n",
    "    \n",
    "    def run(self, raw_state):\n",
    "        \"\"\"Determines the optimal action to take based on current knowledge.\"\"\"\n",
    "        state = self.discretise_state(raw_state)\n",
    "        action = np.argmax(self.q_table[state])\n",
    "        return action\n",
    "    \n",
    "    def test_episodes(self, num_episodes):\n",
    "        reward_list = []\n",
    "\n",
    "        for episode in range(num_episodes):\n",
    "            state, _ = self.env.reset()\n",
    "            done = False\n",
    "            cumulative_reward = 0\n",
    "\n",
    "            while not done:\n",
    "                action = self.run(state)\n",
    "                next_state, reward, done, _, _ = self.env.step(action)\n",
    "                cumulative_reward += reward\n",
    "                if cumulative_reward > 499:\n",
    "                    break\n",
    "                state = next_state\n",
    "                \n",
    "            reward_list.append(cumulative_reward)\n",
    "            \n",
    "        return reward_list\n"
   ]
  },
  {
   "cell_type": "markdown",
   "metadata": {},
   "source": [
    "The agent is trained on 5000 episodes, and the average reward every 1000 episodes is indicated to highlight the agent's progress."
   ]
  },
  {
   "cell_type": "code",
   "execution_count": 22,
   "metadata": {},
   "outputs": [
    {
     "name": "stdout",
     "output_type": "stream",
     "text": [
      "Mean reward for the first 1000 episodes: 32.321\n",
      "Mean reward for the first 2000 episodes: 148.846\n",
      "Mean reward for the first 3000 episodes: 314.279\n",
      "Mean reward for the first 4000 episodes: 401.773\n",
      "Mean reward for the first 5000 episodes: 414.346\n"
     ]
    },
    {
     "data": {
      "text/plain": [
       "500.0"
      ]
     },
     "execution_count": 22,
     "metadata": {},
     "output_type": "execute_result"
    }
   ],
   "source": [
    "Q_agent = QLearning(env)\n",
    "Q_agent.train_episodes(5000)"
   ]
  },
  {
   "cell_type": "markdown",
   "metadata": {},
   "source": [
    "We can see that the agent learns much better with Q-Learning than Monte-Carlo. \n",
    "\n",
    "### Hence, we will be using the Q-Learning agent for the remaining tasks.\n",
    "\n",
    "The agent is tested on a random state of the environment."
   ]
  },
  {
   "cell_type": "code",
   "execution_count": 23,
   "metadata": {},
   "outputs": [
    {
     "name": "stdout",
     "output_type": "stream",
     "text": [
      "Observation: [-4.6075437e-02 -4.1246563e-02  6.3011728e-05  3.4020457e-02]\n",
      "Chosen action: 1\n"
     ]
    }
   ],
   "source": [
    "state, _ = env.reset()\n",
    "action = Q_agent.run(state)\n",
    "print(\"Observation:\", state)\n",
    "print(\"Chosen action:\", action)"
   ]
  },
  {
   "cell_type": "markdown",
   "metadata": {},
   "source": [
    "### Task 2: Demonstrate the effectiveness of the RL agent"
   ]
  },
  {
   "cell_type": "code",
   "execution_count": 24,
   "metadata": {},
   "outputs": [
    {
     "data": {
      "image/png": "[encoded data removed]",
      "text/plain": [
       "<Figure size 640x480 with 1 Axes>"
      ]
     },
     "metadata": {},
     "output_type": "display_data"
    },
    {
     "name": "stdout",
     "output_type": "stream",
     "text": [
      "Average cumulative reward: 500.0\n",
      "Is my agent good enough? True\n"
     ]
    }
   ],
   "source": [
    "episode_results = Q_agent.test_episodes(100)\n",
    "\n",
    "plt.plot(episode_results)\n",
    "plt.title(\"Cumulative reward for each episode\")\n",
    "plt.ylabel('Rewards')\n",
    "plt.xlabel('Episodes')\n",
    "plt.show()\n",
    "\n",
    "print(\"Average cumulative reward:\", np.mean(episode_results))\n",
    "print(\"Is my agent good enough?\", np.mean(episode_results) > 195)"
   ]
  },
  {
   "cell_type": "markdown",
   "metadata": {},
   "source": [
    "### Task 3: Render one episode played by the agent"
   ]
  },
  {
   "cell_type": "code",
   "execution_count": null,
   "metadata": {},
   "outputs": [
    {
     "name": "stdout",
     "output_type": "stream",
     "text": [
      "MoviePy - Building video d:\\Files\\VS Code\\SC3000\\SC3000\\video\\rl-video-episode-0.mp4.\n",
      "MoviePy - Writing video d:\\Files\\VS Code\\SC3000\\SC3000\\video\\rl-video-episode-0.mp4\n",
      "\n"
     ]
    },
    {
     "name": "stderr",
     "output_type": "stream",
     "text": [
      "                                                                          \r"
     ]
    },
    {
     "name": "stdout",
     "output_type": "stream",
     "text": [
      "MoviePy - Done !\n",
      "MoviePy - video ready d:\\Files\\VS Code\\SC3000\\SC3000\\video\\rl-video-episode-0.mp4\n"
     ]
    }
   ],
   "source": [
    "def show_video():\n",
    "    \"\"\"Finds and displays the recorded video.\"\"\"\n",
    "    mp4list = glob.glob('video/*.mp4')\n",
    "    if len(mp4list) > 0:\n",
    "        mp4 = mp4list[0]\n",
    "        video = io.open(mp4, 'rb').read()\n",
    "        encoded = base64.b64encode(video).decode('ascii')\n",
    "        display(HTML(f'<video width=\"600\" controls><source src=\"data:video/mp4;base64,{encoded}\" type=\"video/mp4\"></video>'))\n",
    "    else:\n",
    "        print(\"Could not find video\")\n",
    "\n",
    "def videoEpisode(agent):\n",
    "    \"\"\"Runs one episode, recording the video.\"\"\"\n",
    "    env = RecordVideo(gym.make('CartPole-v1', render_mode='rgb_array'), \"./video\")\n",
    "    state, _ = env.reset()\n",
    "    \n",
    "    done = False\n",
    "    while not done:\n",
    "        action = agent.run(state)  # Assuming `agent.run(state)` chooses an action\n",
    "        next_state, reward, done, _, _ = env.step(action)\n",
    "        state = next_state\n",
    "    \n",
    "    env.close()\n",
    "    show_video()\n",
    "\n",
    "    return\n",
    "\n",
    "# Call videoEpisode and pass your agent\n",
    "videoEpisode(Q_agent)"
   ]
  }
 ],
 "metadata": {
  "kernelspec": {
   "display_name": "base",
   "language": "python",
   "name": "python3"
  },
  "language_info": {
   "codemirror_mode": {
    "name": "ipython",
    "version": 3
   },
   "file_extension": ".py",
   "mimetype": "text/x-python",
   "name": "python",
   "nbconvert_exporter": "python",
   "pygments_lexer": "ipython3",
   "version": "3.12.3"
  }
 },
 "nbformat": 4,
 "nbformat_minor": 2
}
