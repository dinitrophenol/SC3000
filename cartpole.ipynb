{
 "cells": [
  {
   "cell_type": "code",
   "execution_count": 9,
   "metadata": {},
   "outputs": [],
   "source": [
    "import gym\n",
    "from collections import defaultdict\n",
    "import numpy as np\n",
    "from matplotlib import pyplot as plt\n"
   ]
  },
  {
   "cell_type": "code",
   "execution_count": 66,
   "metadata": {},
   "outputs": [
    {
     "name": "stdout",
     "output_type": "stream",
     "text": [
      "Discrete(2)\n",
      "Box([-4.8000002e+00 -3.4028235e+38 -4.1887903e-01 -3.4028235e+38], [4.8000002e+00 3.4028235e+38 4.1887903e-01 3.4028235e+38], (4,), float32)\n",
      "Initial observations: (array([ 0.04995582, -0.02954555,  0.04812894, -0.02210804], dtype=float32), {})\n",
      "<class 'tuple'>\n",
      "New observations after choosing action 0: [ 0.0493649  -0.2253235   0.04768678  0.28536326]\n",
      "<class 'numpy.ndarray'>\n",
      "Reward for this step: 1.0\n",
      "Is this round done? False\n",
      "Cumulative reward for this round: 9.0\n"
     ]
    }
   ],
   "source": [
    "env = gym.make(\"CartPole-v1\")\n",
    "print(env.action_space)\n",
    "print(env.observation_space)\n",
    "\n",
    "observation = env.reset()\n",
    "print(\"Initial observations:\", observation)\n",
    "print(type(observation))\n",
    "\n",
    "observation, reward, done, info, extra_info = env.step(0)\n",
    "\n",
    "print(\"New observations after choosing action 0:\", observation)\n",
    "print(type(observation))\n",
    "print(\"Reward for this step:\", reward)\n",
    "print(\"Is this round done?\", done)\n",
    "\n",
    "observation = env.reset()\n",
    "cumulative_reward = 0\n",
    "done = False\n",
    "while not done:\n",
    "    observation, reward, done, info, extra_info = env.step(0)\n",
    "    cumulative_reward += reward\n",
    "print(\"Cumulative reward for this round:\", cumulative_reward)"
   ]
  },
  {
   "cell_type": "markdown",
   "metadata": {},
   "source": [
    "### Task 1:  Development of an RL Agent"
   ]
  },
  {
   "cell_type": "code",
   "execution_count": 114,
   "metadata": {},
   "outputs": [],
   "source": [
    "class Monte_Carlo():\n",
    "    def __init__(self, env, y = 0.99, e = 0.1, e_rate = 0.999) -> None:\n",
    "        self.env = env\n",
    "        self.q_table = defaultdict(int)\n",
    "        self.returns = defaultdict(int)\n",
    "        self.visits = defaultdict(int)\n",
    "        self.discount_factor = y\n",
    "        self.epsilon = e # Exploration rate\n",
    "        self.epsilon_decay = e_rate # To encourage exploitation over time\n",
    "    \n",
    "    def discretise_state(self, state: np.ndarray) -> tuple:\n",
    "        \"\"\"Discretizes continuous state into a tuple.\"\"\"\n",
    "        state[0] = np.round(state[0], 1)\n",
    "        state[1] = np.round(state[1], 0)   \n",
    "        state[2] = np.round(state[2], 2)\n",
    "        state[3] = np.round(state[3], 0)\n",
    "        return tuple(state)\n",
    "    \n",
    "    def decay_epsilon(self) -> None:\n",
    "        \"\"\"Decays epsilon after each episode.\"\"\"\n",
    "        self.epsilon = max(self.epsilon * self.epsilon_decay, 0.01) # Minimum threshold at 1%\n",
    "\n",
    "    def policy(self, state) -> int:\n",
    "        \"\"\"Selects an action using an ε-greedy policy.\"\"\"\n",
    "        if np.random.rand() < self.epsilon:\n",
    "            return np.random.choice(range(self.env.action_space.n))\n",
    "        else:\n",
    "            return max(range(self.env.action_space.n), key=lambda a: self.q_table.get((state, a), 0))\n",
    "\n",
    "    def generate_episode(self) -> list:\n",
    "        \"\"\"Generates one round of play.\"\"\"\n",
    "        episode = []\n",
    "        state, _ = self.env.reset()\n",
    "        state = self.discretise_state(state)\n",
    "        done = False\n",
    "\n",
    "        while not done:\n",
    "            action = self.policy(state)\n",
    "            next_state, reward, done, _, _ = self.env.step(action)\n",
    "            episode.append((state, action, reward))\n",
    "            state = self.discretise_state(next_state)\n",
    "\n",
    "        return episode\n",
    "    \n",
    "    def generate_return(self, episode) -> None:\n",
    "        \"\"\"Computes returns using first-visit MC method.\"\"\"\n",
    "        G = 0\n",
    "        state_action_visited = set()\n",
    "\n",
    "        # Iterate backwards according to G(t) = r(t) + y * G(t+1)\n",
    "        for i in reversed(range(len(episode))):\n",
    "            state, action, reward = episode[i]\n",
    "            G = reward + self.discount_factor * G\n",
    "\n",
    "            # First-visit MC is actually its last occurrence in the episode\n",
    "            if (state, action) not in state_action_visited:\n",
    "                state_action_visited.add((state, action))\n",
    "                self.returns[(state, action)] += G\n",
    "                self.visits[(state, action)] += 1\n",
    "                self.q_table[(state, action)] = self.returns[(state, action)] / self.visits[(state, action)]\n",
    "\n",
    "    def train(self, num_episodes) -> list:\n",
    "        \"\"\"Runs for multiple episodes.\"\"\"\n",
    "        reward_list = []\n",
    "        for _ in range(num_episodes):\n",
    "            episode = self.generate_episode()\n",
    "            self.generate_return(episode)\n",
    "            reward_list.append(self.reward_per_episode(episode))\n",
    "            self.decay_epsilon()\n",
    "        \n",
    "        return reward_list\n",
    "\n",
    "    def reward_per_episode(self, episode) -> int:\n",
    "        return sum([reward for _, _, reward in episode])\n"
   ]
  },
  {
   "cell_type": "code",
   "execution_count": 115,
   "metadata": {},
   "outputs": [
    {
     "data": {
      "image/png": "[encoded data removed]",
      "text/plain": [
       "<Figure size 640x480 with 1 Axes>"
      ]
     },
     "metadata": {},
     "output_type": "display_data"
    }
   ],
   "source": [
    "Monte_Carlo_Agent = Monte_Carlo(env)\n",
    "fig, ax = plt.subplots() \n",
    "reward = []\n",
    "for i in range(100):\n",
    "    reward_list = Monte_Carlo_Agent.train(100)\n",
    "    reward.append(np.mean(reward_list))\n",
    "\n",
    "plt.plot(reward)\n",
    "ax.set_ylabel('Rewards')\n",
    "ax.set_xlabel('Episodes')\n",
    "plt.show()"
   ]
  }
 ],
 "metadata": {
  "kernelspec": {
   "display_name": "base",
   "language": "python",
   "name": "python3"
  },
  "language_info": {
   "codemirror_mode": {
    "name": "ipython",
    "version": 3
   },
   "file_extension": ".py",
   "mimetype": "text/x-python",
   "name": "python",
   "nbconvert_exporter": "python",
   "pygments_lexer": "ipython3",
   "version": "3.12.3"
  }
 },
 "nbformat": 4,
 "nbformat_minor": 2
}
